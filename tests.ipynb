{
 "cells": [
  {
   "cell_type": "code",
   "execution_count": 28,
   "metadata": {},
   "outputs": [
    {
     "data": {
      "text/plain": [
       "100-element Vector{Float64}:\n",
       " 0.0\n",
       " 0.01\n",
       " 0.02\n",
       " 0.03\n",
       " 0.04\n",
       " 0.05\n",
       " 0.06\n",
       " 0.07\n",
       " 0.08\n",
       " 0.09\n",
       " ⋮\n",
       " 0.91\n",
       " 0.92\n",
       " 0.93\n",
       " 0.9400000000000001\n",
       " 0.9500000000000001\n",
       " 0.96\n",
       " 0.97\n",
       " 0.98\n",
       " 0.99"
      ]
     },
     "metadata": {},
     "output_type": "display_data"
    }
   ],
   "source": [
    "using Plots\n",
    "N = 100\n",
    "dv = zeros(N)\n",
    "dx = 0.01\n",
    "x = [(i-1)*dx for i in 1:N]"
   ]
  },
  {
   "cell_type": "code",
   "execution_count": 6,
   "metadata": {},
   "outputs": [
    {
     "data": {
      "text/plain": [
       "thermal_rel_dist"
      ]
     },
     "metadata": {},
     "output_type": "display_data"
    }
   ],
   "source": [
    "include(\"aux_functions_vlasov.jl\")"
   ]
  },
  {
   "cell_type": "code",
   "execution_count": 23,
   "metadata": {},
   "outputs": [
    {
     "data": {
      "text/plain": [
       "100-element Vector{Float64}:\n",
       " 6.279051952931332\n",
       " 6.266661678215213\n",
       " 6.229539752820561\n",
       " 6.1678326800275265\n",
       " 6.081783989461139\n",
       " 5.971733275991156\n",
       " 5.838114859506266\n",
       " 5.68145607085187\n",
       " 5.5023751706961965\n",
       " 5.3015789095378905\n",
       " ⋮\n",
       " 5.301578909537902\n",
       " 5.502375170696205\n",
       " 5.681456070851873\n",
       " 5.83811485950623\n",
       " 5.9717332759911255\n",
       " 6.0817839894611465\n",
       " 6.167832680027535\n",
       " 6.229539752820571\n",
       " 6.2666616782152325"
      ]
     },
     "metadata": {},
     "output_type": "display_data"
    }
   ],
   "source": [
    "par_Dx = (N, dx, dv)\n",
    "D2x_Per(sin.(2π * x),par_Dx) - 2π*cos.(2π * x)\n",
    "dv"
   ]
  },
  {
   "cell_type": "code",
   "execution_count": 29,
   "metadata": {},
   "outputs": [
    {
     "data": {
      "text/plain": [
       "20×5 Matrix{Float64}:\n",
       " 0.0   0.2   0.4   0.6   0.8\n",
       " 0.01  0.21  0.41  0.61  0.81\n",
       " 0.02  0.22  0.42  0.62  0.82\n",
       " 0.03  0.23  0.43  0.63  0.83\n",
       " 0.04  0.24  0.44  0.64  0.84\n",
       " 0.05  0.25  0.45  0.65  0.85\n",
       " 0.06  0.26  0.46  0.66  0.86\n",
       " 0.07  0.27  0.47  0.67  0.87\n",
       " 0.08  0.28  0.48  0.68  0.88\n",
       " 0.09  0.29  0.49  0.69  0.89\n",
       " 0.1   0.3   0.5   0.7   0.9\n",
       " 0.11  0.31  0.51  0.71  0.91\n",
       " 0.12  0.32  0.52  0.72  0.92\n",
       " 0.13  0.33  0.53  0.73  0.93\n",
       " 0.14  0.34  0.54  0.74  0.94\n",
       " 0.15  0.35  0.55  0.75  0.95\n",
       " 0.16  0.36  0.56  0.76  0.96\n",
       " 0.17  0.37  0.57  0.77  0.97\n",
       " 0.18  0.38  0.58  0.78  0.98\n",
       " 0.19  0.39  0.59  0.79  0.99"
      ]
     },
     "metadata": {},
     "output_type": "display_data"
    }
   ],
   "source": [
    "S = reshape(x, 20, 5)"
   ]
  },
  {
   "cell_type": "code",
   "execution_count": 30,
   "metadata": {},
   "outputs": [
    {
     "data": {
      "text/plain": [
       "20-element Vector{Float64}:\n",
       " 0.2\n",
       " 0.21\n",
       " 0.22\n",
       " 0.23\n",
       " 0.24\n",
       " 0.25\n",
       " 0.26\n",
       " 0.27\n",
       " 0.28\n",
       " 0.29\n",
       " 0.3\n",
       " 0.31\n",
       " 0.32\n",
       " 0.33\n",
       " 0.34\n",
       " 0.35000000000000003\n",
       " 0.36\n",
       " 0.37\n",
       " 0.38\n",
       " 0.39"
      ]
     },
     "metadata": {},
     "output_type": "display_data"
    }
   ],
   "source": [
    "S[:,2]"
   ]
  },
  {
   "cell_type": "code",
   "execution_count": 27,
   "metadata": {},
   "outputs": [
    {
     "data": {
      "text/plain": [
       "100-element Vector{Float64}:\n",
       " 0.0\n",
       " 0.0\n",
       " 0.0\n",
       " 0.0\n",
       " 0.0\n",
       " 0.0\n",
       " 0.0\n",
       " 0.0\n",
       " 0.0\n",
       " 0.0\n",
       " ⋮\n",
       " 0.0\n",
       " 0.0\n",
       " 0.0\n",
       " 0.0\n",
       " 0.0\n",
       " 0.0\n",
       " 0.0\n",
       " 0.0\n",
       " 0.0"
      ]
     },
     "metadata": {},
     "output_type": "display_data"
    }
   ],
   "source": [
    "x"
   ]
  },
  {
   "cell_type": "code",
   "execution_count": null,
   "metadata": {},
   "outputs": [],
   "source": []
  }
 ],
 "metadata": {
  "kernelspec": {
   "display_name": "Julia 1.7.2",
   "language": "julia",
   "name": "julia-1.7"
  },
  "language_info": {
   "file_extension": ".jl",
   "mimetype": "application/julia",
   "name": "julia",
   "version": "1.7.2"
  },
  "orig_nbformat": 4
 },
 "nbformat": 4,
 "nbformat_minor": 2
}
