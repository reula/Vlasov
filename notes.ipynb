{
 "cells": [
  {
   "cell_type": "markdown",
   "metadata": {},
   "source": [
    "Vlasov equation solver\n",
    "\n",
    "We solve the equations:\n",
    "\n",
    "\\begin{align}\n",
    "&\\partial_t f + v \\cdot \\partial_x f + q/m E \\cdot \\partial_v f = 0 \\\\\n",
    "&\\partial_x \\cdot E = \\rho = q n\\\\\n",
    "&\\partial_t E = - qS\n",
    "\\end{align}\n",
    "\n",
    "\n",
    "\n",
    "Where\n",
    "\n",
    "$$\n",
    "\\rho(x,t) = q \\int f(x,v,t)\\; d^d v\n",
    "\\;\\;\\;\\;\\;\\;\n",
    "S(x,t) = \\int v\\; f(x,v,t)\\; d^d v\n",
    "$$\n",
    "Here we do it in one dimension (d = 1).\n",
    "\n",
    "\n",
    "\\begin{align}\n",
    "&\\partial_t f + \\partial_x \\; F^x + \\partial_v \\; F^v = 0 \\\\\n",
    "&\\partial_x \\cdot E = \\rho = q n\\\\\n",
    "&\\partial_t E = - qS\n",
    "\\end{align}\n",
    "\n",
    "$$\n",
    "F^x = v\\; f \\;\\;\\;\\; F^v = \\frac{q}{m}\\;E\\;f\n",
    "$$"
   ]
  },
  {
   "cell_type": "markdown",
   "metadata": {},
   "source": []
  },
  {
   "cell_type": "markdown",
   "metadata": {},
   "source": [
    "We proceed to adimencionalize the equations. There are two cases, in one we set the physical dimension to 1, say. And in the other we set ...."
   ]
  },
  {
   "cell_type": "markdown",
   "metadata": {},
   "source": [
    "### Setting de length\n",
    "\n",
    "Given a length L we set, (hat are the physical variables), $x = \\frac{\\hat{x}}{L}$ ($\\;\\;\\;\\; \\partial_{\\hat{x}} = \\frac{1}{L}\\partial_x$)\n",
    "\n",
    "Correspondingly we set time so that the speed of light is one. \n",
    "That is, $t = \\frac{c}{L}\\hat{t}$ ($\\;\\;\\;\\; \\partial_{\\hat{t}} = \\frac{c}{L}\\partial_t$)\n",
    "\n",
    "$$\n",
    "\\frac{dx}{dt} = \\frac{1}{L} \\frac{L}{c} \\frac{d\\hat{x}}{d\\hat{t}} = \\frac{1}{c} \\frac{d\\hat{x}}{d\\hat{t}} \\;\\;\\;\\;\\;\\; v = \\frac{\\hat{v}}{c} \n",
    "$$\n",
    "\n",
    "The distribution function $\\hat{f}$ changes with $f = L^d c^d \\hat{f}$ (in our case $d=1$)\n",
    "So that the integral over v and x gives the total particle number.\n",
    "\n",
    "Thus, the sources changes to:\n",
    "\n",
    "$$ \n",
    "\\rho = L^{d} \\hat{\\rho} \\;\\;\\;\\;\\; S = L^{d} c^{-1} \\hat{S}\n",
    "$$\n",
    "\n",
    "Therefore the equations becomes:\n",
    "\n",
    "\\begin{align}\n",
    "& \\frac{1}{L^{d+1}c^{d-1}}\\partial_t f + \\frac{1}{L^{d+1}c^{d-1}} v \\cdot \\partial_x f + \\frac{q}{mc^{d+1}L^d} \\hat{E} \\cdot \\partial_v f = 0 \\\\\n",
    "&\\partial_x \\cdot \\hat{E} = \\frac{L^d c^d}{L}\\rho = L^{d-1}c^d \\rho = L^{d-1}c^d q n\\\\\n",
    "&\\partial_t \\hat{E} = - L^{-d}c^{-d}\\frac{L}{c} q S = - L^{-d+1}c^{-d-1} q S\n",
    "\\end{align}\n",
    "\n",
    "We now change dimensions to $E$, $\\hat{E} = qL^{-d+1} E$ that way the equations for $E$ apperar with $q=1$, and we get\n",
    "in the $f$ equation a factor \n",
    "\n",
    "$$\n",
    "\\alpha := \\frac{q^2L^{2-d}}{mc^2}\n",
    "$$\n",
    "\n",
    "Which is a demensionless parameter.\n",
    "\n",
    "Indeed $[E] = [Q]/L^2$, $[\\mathcal{E}] = [E]^2 L^d = [Q]^2 L^{d-2}$ is energy.\n",
    "\n",
    "Now we can scale $E$ and $F$ by a factor $1/\\alpha$ and so reescale the equations so that $\\alpha =1$. \n",
    "\n"
   ]
  },
  {
   "cell_type": "markdown",
   "metadata": {},
   "source": [
    "The plasma frequency is: \n",
    "\n",
    "$$\n",
    "\\omega_p^2 = \\frac{q^2 n_q}{m_q} = \\frac{q^2 N_q}{m_q L^{d}} = \\frac{\\alpha c^2}{L^2}N_q\n",
    "$$\n",
    "\n",
    "Thus, in our units ($L=1$, $c=1$) the square of the plasma frequency is $\\alpha N_q$.\n",
    "\n",
    "\n",
    "Notice that for a plasma near equilibrium, \n",
    "\n",
    "$\\partial_v f = \\sqrt{\\theta} m_q f$\n",
    "\n",
    "Thus, \n",
    "\n",
    "$$\n",
    "\\alpha \\sqrt{\\theta} m_q = \\frac{q^2 L^{d-2} \\sqrt{\\theta}}{c^2} \n",
    "$$\n",
    "\n",
    "Is another dimensionless quantity of relevance."
   ]
  },
  {
   "cell_type": "markdown",
   "metadata": {},
   "source": []
  },
  {
   "cell_type": "markdown",
   "metadata": {},
   "source": [
    "### Setting de time\n",
    "\n",
    "We set the time so that the plasma frequecy is unit, since\n",
    "\n",
    "$$\n",
    "\\omega_p^2 = \\frac{4\\pi q^2 n_q}{m_q} \n",
    "$$\n",
    "\n",
    "we set, $t = \\hat{t} \\omega_p$\n",
    "\n",
    "We set the space coordinates so that the speed of ligth is unit, \n",
    "\n",
    "$$\n",
    "x = \\frac{\\omega_p \\hat{x}}{c} \\;\\;\\;\\;\\;\\;\\; \\frac{dx}{dt} = \\frac{\\omega_p d\\hat{x} }{c \\omega_p d\\hat{t}} = \\frac{1}{c}\\frac{d\\hat{x}}{ d\\hat{t}}\n",
    "$$\n",
    "\n",
    "And reescale the electric field,\n",
    "\n",
    "$$\n",
    "E = \\hat{E} / \\sqrt{4\\pi n_q m_q c^2} = \\hat{E} / \\frac{m_q c}{q}/ \\omega_q\n",
    "$$\n",
    "\n",
    "We now reescale the equations (I added a $4\\pi$ to track that constant)\n",
    "\n",
    "\\begin{align}\n",
    "&\\omega_p \\partial_t f + \\omega_p v \\cdot \\partial_x f + \\frac{q}{m_q} \\frac{m_q c}{q} \\frac{1}{c} \\omega_q E \\cdot \\partial_v f = 0 \\\\\n",
    "&\\frac{\\omega_p}{c} \\frac{m_q c}{q} \\omega_q \\partial_x \\cdot E = 4\\pi q n_q \\partial_x \\cdot E = 4\\pi \\hat{\\rho} = q \\hat{n}\\\\\n",
    "&\\omega_p  \\frac{m_q c}{q} \\omega_q \\partial_t E = 4\\pi c q n_q \\partial_t E = - 4\\pi q \\hat{S}\n",
    "\\end{align}\n",
    "\n",
    "Thus, defining $S = \\frac{\\hat{S}}{c  n_q}$ and $\\rho = \\frac{\\hat{n}}{n_q}$ the system becomes,\n",
    "\n",
    "\\begin{align}\n",
    "&\\partial_t f +  v \\cdot \\partial_x f +  E \\cdot \\partial_v f = 0 \\\\\n",
    "&\\partial_x \\cdot E = n\\\\\n",
    "&\\partial_t E = -S\n",
    "\\end{align}\n",
    "\n",
    "Note that now $n$ is normalized to unity when integrated, assuming $n_q$ is the averaged particle density."
   ]
  },
  {
   "cell_type": "markdown",
   "metadata": {},
   "source": [
    "### Two streams instability\n",
    "\n",
    "To exite the instability a minimal wave lenght is needed. For the parámeters of the `l_` run: Nx = 4000, Lx = 40.0, Np = 400, Lp = 1.0, n = 4, α = 0.1, θ = 0.005, vel = 0.2 we get the instability develop at about $t=60$. \n",
    "\n",
    "For smaller wave lengths (Nx = 400, Lx = 4.0) the instability does not seems to be forming at all.\n",
    "\n"
   ]
  },
  {
   "cell_type": "markdown",
   "metadata": {},
   "source": []
  }
 ],
 "metadata": {
  "kernelspec": {
   "display_name": "Julia 1.7.2",
   "language": "julia",
   "name": "julia-1.7"
  },
  "language_info": {
   "file_extension": ".jl",
   "mimetype": "application/julia",
   "name": "julia",
   "version": "1.7.2"
  }
 },
 "nbformat": 4,
 "nbformat_minor": 2
}
