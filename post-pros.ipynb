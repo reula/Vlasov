{
 "cells": [
  {
   "cell_type": "code",
   "execution_count": null,
   "metadata": {},
   "outputs": [],
   "source": [
    "using Plots\n",
    "using Statistics\n",
    "using FFTW\n",
    "FFTW.set_provider!(\"mkl\")\n",
    "#import Pkg; Pkg.add(\"FileIO\")\n",
    "using FileIO\n",
    "using Base.Threads\n",
    "using Distributions\n",
    "using LsqFit\n",
    "#Pkg; Pkg.add(\"DistributedArrays\")\n",
    "println(\"nthreads = $(nthreads())\")"
   ]
  },
  {
   "cell_type": "code",
   "execution_count": null,
   "metadata": {},
   "outputs": [],
   "source": [
    "data_2 = load(\"fine_landau_undamped3522_200_alp2_n2_Th3th1_results.jld2\")"
   ]
  },
  {
   "cell_type": "code",
   "execution_count": null,
   "metadata": {},
   "outputs": [],
   "source": [
    "t_i, t_f, M, M_g, dt = data_2[\"par_evolv\"]"
   ]
  },
  {
   "cell_type": "code",
   "execution_count": null,
   "metadata": {},
   "outputs": [],
   "source": [
    "\n",
    "p0 = [7.90*10^(-5); 0.561111]\n",
    "@. model(x, p) = p[1]*cos(x*p[2])^2 #* exp(-x*p[3]) #*cos(x*p[5] + p[6])"
   ]
  },
  {
   "cell_type": "code",
   "execution_count": null,
   "metadata": {},
   "outputs": [],
   "source": [
    "t_series = [dt*(i-1)*((M-1)÷(M_g-1)) for i in 1:M_g];\n",
    "fit = curve_fit(model, t_series, data_2[\"Energy_E\"], p0);\n",
    "fit.param"
   ]
  },
  {
   "cell_type": "code",
   "execution_count": null,
   "metadata": {},
   "outputs": [],
   "source": [
    "p1 = 7.90*10^(-5); p2 = 0.561111\n",
    "plot(t_series, data_2[\"Energy_E\"])\n",
    "#plot!(t_series, model(t_series, fit.param))\n",
    "plot!(t_series, p1*cos.(p2*t_series).^2)"
   ]
  },
  {
   "cell_type": "markdown",
   "metadata": {},
   "source": [
    "Fit for undamped with parameters:\n",
    "\n",
    "\n",
    "\n",
    "$p1 = 7.90*10^{-5}$  $p2 = 0.561111$ for $E_E(t) = p1\\; cos(p2*t)^2$"
   ]
  },
  {
   "cell_type": "markdown",
   "metadata": {},
   "source": [
    "\n",
    "Los parámetros de fiteo son: \n",
    "\n",
    "### Caso undamped n = 4\n",
    "\n",
    "    Lx = 39.738, Nx = 3522, Np = 200, Lp = 0.5\n",
    "\n",
    "    α = 0.01\n",
    "    n = 4 (chekeado que la longitud de onda es Lx/4)\n",
    "    k = 2*π*n/Lx\n",
    "    θ = 0.001\n",
    "\n",
    "$E_K = a + b*cos(\\omega*t + \\alpha)^2$ \n",
    "\n",
    "Tenemos $a = 1.0005005$, $b = 0.0000196$ $\\omega = 0.562$, $\\alpha = -\\pi/2$\n",
    "\n",
    "$E_K = a' + d'*cos(\\omega' * t + \\alpha')$ \n",
    "\n",
    "Tenemos $a'= 1.0005103$, $b'= 0.0000196/2$ $\\omega' = 0.562*2$ $\\alpha'= - π$\n",
    "\n",
    "$E_E = p_1 * cos(p_2 * t)^2\n",
    "\n",
    "Tenemos $p_1 = 1.969*10^{-5} $, $p_2 = 0.5619$ \n",
    "\n",
    "### Caso undamped n = 2\n",
    "\n",
    "Lx = 39.738, Nx = 3522, Np = 200, Lp = 0.5\n",
    "\n",
    "    α = 0.01\n",
    "    n = 2 (chekeado que la longitud de onda es Lx/2)\n",
    "    k = 2*π*n/Lx\n",
    "    θ = 0.001\n",
    "\n",
    "Tenemos $p1 = 7.90*10^{-5}$  $p2 = 0.561111$ for $E_E(t) = p1\\; cos(p2*t)^2$\n",
    "\n",
    "$\\omega = \\; \\sqrt{4π} * 0.561111 \\;= \\;1.989 $\n",
    "\n",
    "\n",
    "**No entiendo porque no cambian las frequencias entre n = 2 y 4. Bueno, según SHARP comienza cuadrático, puede ser que este bien**\n",
    "\n",
    "### Caso damped\n",
    "\n",
    "    Lx = 7.455, Nx = 930, Np = 200, Lp = 0.5\n",
    "\n",
    "    α = 0.01\n",
    "    n = 15\n",
    "    k = 2*π*n/Lx\n",
    "    θ = 0.001\n",
    "\n",
    "$E_E = b*cos(\\omega*t)^2 e^{-\\gamma * t}$ \n",
    "\n",
    "Tenemos: $b = 1.450 \\; 10^{-7}$, $\\omega = 1.512$, $\\gamma = 0.03$\n",
    "\n",
    "\n",
    "#### Note: \n",
    "\n",
    "Since we are using a $4\\pi$ in the equation for E dot, we need to change E and t to get to the equations in the SHARP paper, for that we have to change time by a factor $\\sqrt{4\\pi}$. \n",
    "\n",
    "$$\n",
    "\\hat t = a t \\;\\;\\;\\; \\partial_{\\hat t} = \\frac{1}{a} \\partial_t \n",
    "$$\n",
    "\n",
    "\\begin{align*}\n",
    "\\partial_t f &= a \\partial_{\\hat t} f = E \\partial_p f = a \\hat{E} \\partial_p f \\\\\n",
    "\\partial_t E &= a^2 \\partial_{\\hat t} \\hat{E} = 4\\pi S\n",
    "\\end{align*}\n",
    "\n",
    "Therefore $a^2 = 4\\pi$ (the hat variables are the ones in the SHARP paper), or $\\hat t = \\sqrt{4\\pi} t$, or \n",
    "$\\hat{\\omega} = \\omega /\\sqrt{4\\pi}$\n",
    "\n",
    "\n",
    "Using this factor we get:\n",
    "\n",
    "#### undamped: #### \n",
    "\n",
    "$\\hat{\\omega} = \\;  0.562  / \\sqrt{4π} \\;= \\;0.15828 $\n",
    "\n",
    "#### damped: #### \n",
    "\n",
    "$\\hat{\\omega} = 1.512 / \\sqrt{4π} = 0.42652$, $\\hat{\\gamma} =  0.03 / \\sqrt{4π} = 0.008$\n",
    "\n",
    "\n",
    "We also have: \n",
    "\n",
    "$$\n",
    "\\frac{\\omega_d}{\\omega_u} = 2.6905 \\;\\;\\;\\;\\;\\;\\; \\frac{\\gamma}{\\omega_u} = 0.053\n",
    "$$"
   ]
  },
  {
   "cell_type": "code",
   "execution_count": null,
   "metadata": {},
   "outputs": [],
   "source": [
    " 0.03 / sqrt(4π)\n",
    " 0.03 / 0.562\n",
    " 2.69 / 2"
   ]
  },
  {
   "cell_type": "code",
   "execution_count": null,
   "metadata": {},
   "outputs": [],
   "source": [
    "plot(data_2[\"S_F\"])"
   ]
  },
  {
   "cell_type": "code",
   "execution_count": null,
   "metadata": {},
   "outputs": [],
   "source": [
    "data_4 = load(\"fine_landau_3522_200_alp2_n_Th3th1_results.jld2\")"
   ]
  },
  {
   "cell_type": "code",
   "execution_count": null,
   "metadata": {},
   "outputs": [],
   "source": [
    "plot(data_4[\"S_F\"])"
   ]
  },
  {
   "cell_type": "code",
   "execution_count": null,
   "metadata": {},
   "outputs": [],
   "source": [
    "p_4_1 = 1.969*10^(-5) ; p_4_2 = 0.5619\n",
    "plot(t_series, data_4[\"Energy_E\"])\n",
    "plot!(t_series, p_4_1 * cos.(p_4_2 * t_series).^2)"
   ]
  },
  {
   "cell_type": "code",
   "execution_count": null,
   "metadata": {},
   "outputs": [],
   "source": []
  }
 ],
 "metadata": {
  "kernelspec": {
   "display_name": "Julia 1.7.2",
   "language": "julia",
   "name": "julia-1.7"
  },
  "language_info": {
   "file_extension": ".jl",
   "mimetype": "application/julia",
   "name": "julia",
   "version": "1.7.2"
  },
  "orig_nbformat": 4
 },
 "nbformat": 4,
 "nbformat_minor": 2
}
