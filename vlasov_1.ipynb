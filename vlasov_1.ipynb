{
 "cells": [
  {
   "cell_type": "markdown",
   "metadata": {},
   "source": [
    "## Vlasov equations\n",
    "\n",
    "We want to solve Vlosov equations on 1  (in $S^1$).\n",
    "\n",
    "The equations are: \n",
    "\n",
    "\\begin{align}\n",
    "\\partial_t f + p \\partial_x f &= \\frac{q}{m}E \\partial_p f \\\\\n",
    "\\partial_t E = -4\\pi J \\\\\n",
    "\\partial_x E = 4\\pi \\rho \\\\\n",
    "\\end{align}\n",
    "\n",
    "Where $f = f(t,x,p)$ is a distribution function in phase espace. \n",
    "Note that the invarian volume element is, \n",
    "\n",
    "$$\n",
    "dP = dp_x/p_0\n",
    "$$ \n",
    "\n",
    "We define, the particle number with respect to an observer with four-velocity $u^a$,\n",
    "\n",
    "$$\n",
    "N = \\int f(x,p)(-u \\cdot p)\\; dP\n",
    "$$ \n",
    "\n",
    "Thus, for the observer at rest in the coordinate system $(t,x)$ we get\n",
    "\n",
    "$$\n",
    "N = \\int f(x,p) p_0 \\; dP = \\int f(x,p) \\; dp_x\n",
    "$$ \n",
    "\n",
    "Otherwise one has the four-vector particle density,\n",
    "\n",
    "$$\n",
    "N^a = \\int f(x,p) p^a \\; dP = \\int f(x,p) \\frac{p^a}{p_0} \\; dp_x\n",
    "$$\n",
    "\n",
    "Thus, \n",
    "\n",
    "$$\n",
    "N^x = \\int f(x,p) \\frac{p_x}{p_0} \\; dp_x\n",
    "$$\n",
    "\n",
    "Likewise we have the energy-momentum tensor,\n",
    "\n",
    "$$\n",
    "T^{ab} = \\int p^a p^b f(x,p) dP \n",
    "$$\n",
    "\n",
    "So, \n",
    "\n",
    "$$\n",
    "T^{00} = \\int p^0 f(x,p) dp_x = m \\int \\sqrt{1 + p^2/m^2} dp\n",
    "$$\n",
    "\n",
    "\n",
    "\n",
    "\n",
    "\\begin{align}\n",
    "\\rho(t,x) &:= q\\int f(t,x,p) \\; dp - n_0 \\\\\n",
    "n_0 &:= q \\int \\int f(t,x,p) \\; dp \\; dx / V\\\\\n",
    "J(t,x) &:= q \\int v f(t,x,p) \\; dp, \\\\\n",
    "v &:= \\frac{\\frac{p}{m}}{\\sqrt{1 + \\frac{p^2}{m^2}}} \\\\ \n",
    "\\end{align}\n",
    "\n",
    "And $E = E(t,x)$ is the electric field.\n"
   ]
  },
  {
   "cell_type": "markdown",
   "metadata": {},
   "source": [
    "The equilibrium distribution function is: \n",
    "\n",
    "$$\n",
    "f(\\gamma) = \\frac{\\gamma^2 \\beta}{\\theta K_2(\\frac{1}{\\theta})}\\; e^{-\\frac{\\gamma}{\\theta}} \\;\\;\\;\\; \\gamma = \\frac{1}{\\sqrt{1 - \\beta^2}}\n",
    "$$ \n",
    "\n",
    "or\n",
    "\n",
    "$$\n",
    "f(p) = \\frac{1}{4\\pi m^3 c^3 \\theta K_2(\\frac{1}{\\theta})} \\; e^{-\\frac{\\gamma(p)}{\\theta}} \\;\\;\\;\\;\\; \\gamma(p) = \\sqrt{1 + (\\frac{p}{m})^2}\n",
    "$$\n",
    "\n",
    "and $K_2$ is the Bessel function of second kind."
   ]
  },
  {
   "cell_type": "code",
   "execution_count": null,
   "metadata": {},
   "outputs": [],
   "source": [
    "using Plots\n",
    "using Statistics\n",
    "using FFTW\n",
    "FFTW.set_provider!(\"mkl\")\n",
    "#import Pkg; Pkg.add(\"FileIO\")\n",
    "using FileIO\n",
    "using Base.Threads\n",
    "using Distributions\n",
    "#Pkg; Pkg.add(\"DistributedArrays\")\n",
    "println(\"nthreads = $(nthreads())\")"
   ]
  },
  {
   "cell_type": "code",
   "execution_count": null,
   "metadata": {},
   "outputs": [],
   "source": [
    "include(\"aux_functions_vlasov.jl\")"
   ]
  },
  {
   "cell_type": "code",
   "execution_count": null,
   "metadata": {},
   "outputs": [],
   "source": [
    "run_name = \"fine_\"\n",
    "\n",
    "\n",
    "landau = false\n",
    "two_streams = false\n",
    "landau = true\n",
    "#two_streams = true\n",
    "#const Np = 201 # we take even since we need positive and negative values\n",
    "#const Lx = 1\n",
    "#const Lp = 0.5 # para cada lado\n",
    "\n",
    "if landau\n",
    "    if true #undamped\n",
    "        const Lx = 39.738 \n",
    "        const Nx = 3522\n",
    "        const n = 2\n",
    "        run_name = run_name * \"landau_undamped\"\n",
    "    else #damped \n",
    "        const Lx = 7.455\n",
    "        const Nx = 930\n",
    "        const n = 15\n",
    "        run_name = run_name * \"landau_damped\"\n",
    "    end\n",
    "\n",
    "    const Np = 200\n",
    "    const Lp = 0.5\n",
    "    \n",
    "    α = 0.01\n",
    "    k = 2*π*n/Lx\n",
    "    θ = 0.001\n",
    "    run_name = run_name * \"$(Nx)_$(Np)_alp2_n$(n)_Th3\"\n",
    "elseif two_streams\n",
    "    const Nx = 200 # usar par para Fourier transform\n",
    "    const Lx = 1.0\n",
    "    const Np = 200\n",
    "    const Lp = 0.5\n",
    "    run_name = run_name * \"two_streams_\"\n",
    "    k = 2*π*n/Lx\n",
    "    θ = 0.01\n",
    "    vel = 0.2\n",
    "    run_name = run_name * \"$(Nx)_$(Np)_vel_p2_v2_Th3\"\n",
    "end\n",
    "\n",
    "dx = Lx/Nx # periodic boundary conditions\n",
    "dp = 2*Lp/(Np-1) # Dichlet... or whatever but not periodic\n",
    "\n",
    "const m = 1\n",
    "const e =-1\n",
    "#const q = 1\n",
    "\n",
    "const κ = 2π/Lx\n",
    "\n",
    "par_grid = (Nx, dx, Np, dp)\n",
    "\n",
    "p = [get_p(j,dp,Np)/m for j ∈ 1:Np]\n",
    "v = [p[j]/sqrt(1+p[j]^2) for j ∈ 1:Np];\n",
    "\n",
    "run_name\n"
   ]
  },
  {
   "cell_type": "code",
   "execution_count": null,
   "metadata": {},
   "outputs": [],
   "source": [
    "#E = zeros(Nx)\n",
    "#ϕ = zeros(Nx)\n",
    "ρ = zeros(Nx) #charge density\n",
    "S = zeros(Nx) #carge current\n",
    "E_K = zeros(Nx) # kinetic energy\n",
    "#E_E = zeros(Nx) # Electromagnetic energy\n",
    "P = zeros(Nx) # Momentum\n",
    "du = zeros(Nx * (Np+1)); # contains f and E\n"
   ]
  },
  {
   "cell_type": "markdown",
   "metadata": {},
   "source": [
    "## Initial data"
   ]
  },
  {
   "cell_type": "code",
   "execution_count": null,
   "metadata": {},
   "outputs": [],
   "source": [
    "u = zeros(Nx * (Np+1))\n",
    "\n",
    "pars = (Nx, dx, Lx, Np, dp, Lp, κ, e)\n",
    "\n",
    "\n",
    "\n",
    "if landau\n",
    "    pars_f = (m, θ, α, k)\n",
    "    u = generate_initial_data!(landau_rel_dist, u, pars_f, pars);\n",
    "elseif two_streams\n",
    "    pars_f = (m, θ, 0.2)\n",
    "    u = generate_initial_data!(counter_streams_rel_dist, u, pars_f, pars);\n",
    "end\n",
    "\n",
    "\n",
    "\n",
    "F = reshape(u[1:Nx*Np],(Nx,Np));\n",
    "\n",
    "plot(F[Nx÷2,:])\n",
    "#plot_matrix(F)\n",
    "#save(\"initial_dist_landau_big.png\")"
   ]
  },
  {
   "cell_type": "code",
   "execution_count": null,
   "metadata": {},
   "outputs": [],
   "source": [
    "E_i = deepcopy(u[Nx*Np+1:end])\n",
    "get_current!(u, S, (Nx, dx, Np, dp, v, m, e));\n",
    "get_density!(u, ρ, (Nx, dx, Np, dp, m, e))\n",
    "plot(get_K_energy!(u,E_K,(Nx, dx, Np, dp)))\n",
    "\n",
    "x = [(i-1)*dx for i in 1:Nx]\n",
    "\n",
    "plot(layout=(2,2))\n",
    "plot!(subplot=1,x,ρ, title = \"density\", legend = :false)\n",
    "plot!(subplot=2,x,E_i, title = \"Electric Field\", legend = :false)\n",
    "plot!(subplot=3,x,S, title = \"Current\", legend = :false)\n",
    "plot!(subplot=4,x,E_K, title = \"Kinetic Energy\", legend = :false)"
   ]
  },
  {
   "cell_type": "markdown",
   "metadata": {},
   "source": [
    "## Time evolution"
   ]
  },
  {
   "cell_type": "code",
   "execution_count": null,
   "metadata": {},
   "outputs": [],
   "source": [
    "t = 0.0\n",
    "t_i = 0.0\n",
    "t_f = 100.0\n",
    "M = 10001\n",
    "M_g = 500 + 1 #number of outputs, starting from the initial data\n",
    "dt = t_f / (M-1)\n",
    "par_evolv = (t_i, t_f, M, M_g, dt)\n"
   ]
  },
  {
   "cell_type": "code",
   "execution_count": null,
   "metadata": {},
   "outputs": [],
   "source": [
    "dvx = zeros(Nx)\n",
    "dvp = zeros(Np)\n",
    "k1 = zeros(Nx*(Np+1))\n",
    "k2 = zeros(Nx*(Np+1))\n",
    "k3 = zeros(Nx*(Np+1))\n",
    "k4 = zeros(Nx*(Np+1))\n",
    "p_F = (dx, dp, Nx, Np, v, S, dvx, dvp)\n",
    "par_RK = (k1, k2, k3, k4)\n",
    "\n",
    "# total quantities \n",
    "Energy_K = zeros(M_g)\n",
    "Energy_E = zeros(M_g)\n",
    "EField_T = zeros(M_g)\n",
    "p_T = zeros(M_g)\n",
    "n_T = zeros(M_g)\n",
    "S_T = zeros(M_g)\n",
    "E_E = 0.0\n",
    "#T = zeros(M_g)\n"
   ]
  },
  {
   "cell_type": "code",
   "execution_count": null,
   "metadata": {},
   "outputs": [],
   "source": [
    "\n",
    "j = 1\n",
    "\n",
    "Energy_K[j]  = sum(get_K_energy!(u,E_K,(Nx, dx, Np, dp)))*dx\n",
    "Energy_E[j]  = get_E_energy(u,(Nx, dx))\n",
    "EField_T[j] = sum(u[Nx*Np+1:end])*dx\n",
    "p_T[j] = sum(get_momentum!(u,P,(Nx, dx, Np, dp)))*dx\n",
    "\n",
    "get_density!(u, ρ, (Nx, dx, Np, dp, m, e))\n",
    "get_current!(u, S, (Nx, dx, Np, dp, v, m, e))\n",
    "n_T[j] = get_total_density!(ρ,(Nx, dx))\n",
    "S_T[j] = sum(S)/n_T[j]/Nx\n",
    "#T[1] = var(u[N+1:2N])"
   ]
  },
  {
   "cell_type": "markdown",
   "metadata": {},
   "source": [
    "### Temporal evolution: This takes a while!"
   ]
  },
  {
   "cell_type": "code",
   "execution_count": null,
   "metadata": {},
   "outputs": [],
   "source": [
    "#include(\"aux_functions_vlasov.jl\")\n",
    "\n",
    "for k in 2:M\n",
    "    RK4_Step!(F!,u,t,dt,p_F,par_RK)\n",
    "    global t = t + dt\n",
    "    if (k-1) % (M÷(M_g-1)) == 0\n",
    "        local j = (k-1)÷(M÷(M_g-1))+1\n",
    "        Energy_K[j]  = sum(get_K_energy!(u,E_K,(Nx, dx, Np, dp)))*dx\n",
    "        Energy_E[j]  = get_E_energy(u,(Nx, dx))\n",
    "        EField_T[j] = sum(u[Nx*Np+1:end])*dx\n",
    "        p_T[j] = sum(get_momentum!(u,P,(Nx, dx, Np, dp)))*dx\n",
    "        get_density!(u, ρ, (Nx, dx, Np, dp, m, e))\n",
    "        get_current!(u, S, (Nx, dx, Np, dp, v, m, e))\n",
    "        n_T[j] = get_total_density!(ρ,(Nx, dx))\n",
    "        S_T[j] = sum(S)/n_T[j]/Nx\n",
    "        println(\"j = $j , t = $t, k = $k, nthreads = $(nthreads())\")\n",
    "    end\n",
    "  end"
   ]
  },
  {
   "cell_type": "code",
   "execution_count": null,
   "metadata": {},
   "outputs": [],
   "source": [
    "run = Dict(\"run_name\" => run_name, \"par_grid\" => par_grid, \"par_evolv\" => par_evolv, \"p_Ini\" => pars_f, \"Energy_E\" => Energy_E, \"Energy_K\" => Energy_K, \"E_f\" => u[Nx*Np+1:end], \"n_F\" => ρ, \"S_F\" => S, \"E_T\"=> EField_T, \"S_T\" => S_T, \"n_T\" => n_T)\n",
    "save(run_name * \"th$(nthreads())_results.jld2\", run)"
   ]
  },
  {
   "cell_type": "markdown",
   "metadata": {},
   "source": [
    "### Shows the final data, warning lot of  memory for big grids! "
   ]
  },
  {
   "cell_type": "code",
   "execution_count": null,
   "metadata": {},
   "outputs": [],
   "source": [
    "#F = reshape(u[1:Nx*Np],(Nx,Np));\n",
    "#plot_matrix(F)\n",
    "\n",
    "\n"
   ]
  },
  {
   "cell_type": "code",
   "execution_count": null,
   "metadata": {},
   "outputs": [],
   "source": [
    "ρ_f = zeros(Nx)\n",
    "E_f = zeros(Nx)\n",
    "ϕ_f = zeros(Nx)\n",
    "S_f = zeros(Nx)\n",
    "\n",
    "\n",
    "get_density!(u, ρ_f, (Nx, dx, Np, dp, m, e))\n",
    "n0 = get_total_density!(ρ_f, (Nx, dx))\n",
    "println(\"n0 = $(n0)\")\n",
    "get_ϕ!(ϕ_f, ρ_f .- e*n0, κ)\n",
    "get_E_from_ϕ!(ϕ_f,E_f,dx)\n",
    "\n",
    "\n",
    "plot(x,E_f,label=\"from final density\", ls=:dash, lw=2)\n",
    "plot!(x,E_i,label=\"E_initial\")\n",
    "plot!(x,u[Nx*Np+1:end], label=\"E_final\")\n",
    "#save(\"Efield_landau_undamped.png\")"
   ]
  },
  {
   "cell_type": "code",
   "execution_count": null,
   "metadata": {},
   "outputs": [],
   "source": [
    "factor = 200\n",
    "plot(layout=(2,2))\n",
    "plot!(subplot=1, (Energy_K .- Energy_K[1]), label=\"Energy_K\")\n",
    "plot!(subplot=1, (Energy_E .- Energy_E[1]), label=\"Energy_E\")\n",
    "plot!(subplot=2, (Energy_K + Energy_E) ./ (Energy_K[1] + Energy_E[1]) .- 1, label=\"Total Energy\")\n",
    "plot!(subplot=3, n_T, label=\"Total density\")\n",
    "plot!(subplot=4, S_T, label=\"Total Current\")\n",
    "#save(\"landau_undamped.png\")"
   ]
  },
  {
   "cell_type": "code",
   "execution_count": null,
   "metadata": {},
   "outputs": [],
   "source": [
    "plot(ρ_f)"
   ]
  },
  {
   "cell_type": "code",
   "execution_count": null,
   "metadata": {},
   "outputs": [],
   "source": [
    "plot(p_T)"
   ]
  },
  {
   "cell_type": "code",
   "execution_count": null,
   "metadata": {},
   "outputs": [],
   "source": [
    "Energy_K = load(run_name * \"th$(nthreads())_results.jld2\", \"Energy_K\")\n",
    "Energy_E = load(run_name * \"th$(nthreads())_results.jld2\", \"Energy_E\")\n",
    "plot(Energy_K .- Energy_K[1])\n",
    "plot!(Energy_E)\n"
   ]
  },
  {
   "cell_type": "code",
   "execution_count": null,
   "metadata": {},
   "outputs": [],
   "source": [
    "println(\"M = $M, M_g = $M_g\")\n",
    "tt = 0:dt*(M-1)/(M_g-1):t_f\n",
    "\n",
    "if true #undamped\n",
    "    plot(tt,Energy_K)\n",
    "    plot!(tt, 1.0005005 .+ 0.0000196*cos.(0.562*tt .- π/2).^2)\n",
    "    plot!(tt, 1.0005103 .+ 0.0000196/2*cos.(0.562*2*tt .- π))\n",
    "else\n",
    "    plot(tt,log10.(Energy_E))\n",
    "    plot!(tt, log10.(10^(-7)*1.450*cos.(1.512*tt .- 0).^(2).*exp.(-0.03.* tt)))\n",
    "end"
   ]
  },
  {
   "cell_type": "markdown",
   "metadata": {},
   "source": [
    "Los parámetros de fiteo son: \n",
    "\n",
    "### Caso undamped\n",
    "\n",
    "    Lx = 39.738, Nx = 3522, Np = 200, Lp = 0.5\n",
    "\n",
    "    α = 0.01\n",
    "    n = 4\n",
    "    k = 2*π*n/Lx\n",
    "    θ = 0.001\n",
    "\n",
    "$E_K = a + b*cos(\\omega*t + \\alpha)^2$ \n",
    "\n",
    "Tenemos $a = 1.0005005$, $b = 0.0000196$ $\\omega = 0.562$, $\\alpha = -\\pi/2$\n",
    "\n",
    "$E_K = a' + d'*cos(\\omega' * t + \\alpha')$ \n",
    "\n",
    "Tenemos $a'= 1.0005103$, $b'= 0.0000196/2$ $\\omega' = 0.562*2$ $\\alpha'= - π$\n",
    "\n",
    "### Caso damped\n",
    "\n",
    "    Lx = 7.455, Nx = 930, Np = 200, Lp = 0.5\n",
    "\n",
    "    α = 0.01\n",
    "    n = 15\n",
    "    k = 2*π*n/Lx\n",
    "    θ = 0.001\n",
    "\n",
    "$E_E = b*cos(\\omega*t)^2 e^{-\\gamma * t}$ \n",
    "\n",
    "Tenemos: $b = 1.450 \\; 10^{-7}$, $\\omega = 1.512$, $\\gamma = 0.03$\n",
    "\n",
    "\n",
    "#### Note: \n",
    "\n",
    "Since we are using a $4\\pi$ in the equation for E dot, we need to change E and t to get to the equations in the SHARP paper, for that we have to change time by a factor $\\sqrt{4\\pi}$. \n",
    "\n",
    "Using this factor we get:\n",
    "\n",
    "#### undamped: #### \n",
    "\n",
    "$\\omega = \\; \\sqrt{4π} * 0.562 \\;= \\;1.9922 $\n",
    "\n",
    "#### damped: #### \n",
    "\n",
    "$\\omega = \\sqrt{4π} * 1.512 = 5.3599$, $\\gamma = \\sqrt{4π} * 0.03 = 0.1063$"
   ]
  },
  {
   "cell_type": "markdown",
   "metadata": {},
   "source": []
  },
  {
   "cell_type": "code",
   "execution_count": null,
   "metadata": {},
   "outputs": [],
   "source": [
    "sqrt(4π)* 0.03\n",
    "\n",
    "5.36/4"
   ]
  },
  {
   "cell_type": "code",
   "execution_count": null,
   "metadata": {},
   "outputs": [],
   "source": [
    "using LsqFit"
   ]
  },
  {
   "cell_type": "code",
   "execution_count": null,
   "metadata": {},
   "outputs": [],
   "source": [
    "\n",
    "p0 = [0 ; 1; 0]\n",
    "@. model(x, p) = p[1]*sin(x*p[2])^2 * exp(-x*p[3]) #*cos(x*p[5] + p[6])"
   ]
  },
  {
   "cell_type": "code",
   "execution_count": null,
   "metadata": {},
   "outputs": [],
   "source": [
    "t_series = [dt*(i-1)*(M-1)/(M_g-1) for i in 1:M_g];\n",
    "fit = curve_fit(model, t_series, Energy_E, p0);\n",
    "fit.param"
   ]
  }
 ],
 "metadata": {
  "kernelspec": {
   "display_name": "Julia 1.7.2",
   "language": "julia",
   "name": "julia-1.7"
  },
  "language_info": {
   "file_extension": ".jl",
   "mimetype": "application/julia",
   "name": "julia",
   "version": "1.7.2"
  },
  "orig_nbformat": 4
 },
 "nbformat": 4,
 "nbformat_minor": 2
}
