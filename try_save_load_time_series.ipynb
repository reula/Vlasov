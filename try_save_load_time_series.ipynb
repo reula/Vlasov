{
 "cells": [
  {
   "cell_type": "code",
   "execution_count": 82,
   "metadata": {},
   "outputs": [],
   "source": [
    "using FileIO\n",
    "using JLD2\n",
    "using Printf"
   ]
  },
  {
   "cell_type": "code",
   "execution_count": 83,
   "metadata": {},
   "outputs": [
    {
     "data": {
      "text/plain": [
       "10-element Vector{Int64}:\n",
       "  1\n",
       "  2\n",
       "  3\n",
       "  4\n",
       "  5\n",
       "  6\n",
       "  7\n",
       "  8\n",
       "  9\n",
       " 10"
      ]
     },
     "execution_count": 83,
     "metadata": {},
     "output_type": "execute_result"
    }
   ],
   "source": [
    "J_i = 10 # grilla espacial\n",
    "M_i = 12 # pasos temporales\n",
    "\n",
    "u = [i-1 + j for i in 1:J_i, j in 1:M_i]\n",
    "u[:,1]"
   ]
  },
  {
   "cell_type": "code",
   "execution_count": 132,
   "metadata": {},
   "outputs": [],
   "source": [
    "#close(file)\n",
    "rm(\"run_try.jld2\")\n"
   ]
  },
  {
   "cell_type": "code",
   "execution_count": 133,
   "metadata": {},
   "outputs": [],
   "source": [
    "\n",
    "j = 1\n",
    "tiempo = @sprintf(\"%05d\", j)\n",
    "field_name = \"u\"\n",
    "file_name = \"run_try.jld2\"\n",
    "#close(file_name)\n",
    "file = jldopen(file_name, \"w\")\n",
    "file[\"params\"] = (J_i,M_i)\n",
    "close(file)\n"
   ]
  },
  {
   "cell_type": "code",
   "execution_count": 134,
   "metadata": {},
   "outputs": [
    {
     "data": {
      "text/plain": [
       "JLDFile /Users/reula/Julia/Vlasov/run_try.jld2 (read/write)\n",
       " └─🔢 params"
      ]
     },
     "execution_count": 134,
     "metadata": {},
     "output_type": "execute_result"
    }
   ],
   "source": [
    "file = jldopen(\"run_try.jld2\", \"r+\")"
   ]
  },
  {
   "cell_type": "code",
   "execution_count": 135,
   "metadata": {},
   "outputs": [
    {
     "data": {
      "text/plain": [
       "10"
      ]
     },
     "execution_count": 135,
     "metadata": {},
     "output_type": "execute_result"
    }
   ],
   "source": [
    "file = jldopen(file_name, \"r+\")\n",
    "    J_o, M_o = file[\"params\"] \n",
    "\n",
    "J_o"
   ]
  },
  {
   "cell_type": "code",
   "execution_count": 136,
   "metadata": {},
   "outputs": [],
   "source": [
    "close(file)"
   ]
  },
  {
   "cell_type": "code",
   "execution_count": 137,
   "metadata": {},
   "outputs": [],
   "source": [
    "\n",
    "jldopen(\"run_try.jld2\", \"a+\") do file\n",
    "    file[field_name * \"/u_$(tiempo)\"] = u[:,1]\n",
    "end\n",
    "\n",
    "for j in 2:M\n",
    "    tiempo = @sprintf(\"%05d\", j)\n",
    "    jldopen(\"run_try.jld2\", \"a+\") do file\n",
    "        file[field_name * \"/u_$(tiempo)\"] = u[:,j]\n",
    "    end\n",
    "end"
   ]
  },
  {
   "cell_type": "code",
   "execution_count": 138,
   "metadata": {},
   "outputs": [
    {
     "data": {
      "text/plain": [
       "JLDFile /Users/reula/Julia/Vlasov/run_try.jld2 (read/write)\n",
       " ├─🔢 params\n",
       " └─📂 u\n",
       "    ├─🔢 u_00001\n",
       "    ├─🔢 u_00002\n",
       "    ├─🔢 u_00003\n",
       "    ├─🔢 u_00004\n",
       "    ├─🔢 u_00005\n",
       "    ├─🔢 u_00006\n",
       "    ├─🔢 u_00007\n",
       "    └─ ⋯ (5 more entries)"
      ]
     },
     "execution_count": 138,
     "metadata": {},
     "output_type": "execute_result"
    }
   ],
   "source": [
    "file = jldopen(\"run_try.jld2\", \"r+\")\n"
   ]
  },
  {
   "cell_type": "code",
   "execution_count": 139,
   "metadata": {},
   "outputs": [],
   "source": [
    "close(file)"
   ]
  },
  {
   "cell_type": "code",
   "execution_count": 142,
   "metadata": {},
   "outputs": [],
   "source": [
    "file = jldopen(file_name, \"r+\")\n",
    "p = file[\"params\"] \n",
    "close(file)"
   ]
  },
  {
   "cell_type": "code",
   "execution_count": 144,
   "metadata": {},
   "outputs": [
    {
     "data": {
      "text/plain": [
       "10×12 Matrix{Float64}:\n",
       " 0.0  0.0  0.0  0.0  0.0  0.0  0.0  0.0  0.0  0.0  0.0  0.0\n",
       " 0.0  0.0  0.0  0.0  0.0  0.0  0.0  0.0  0.0  0.0  0.0  0.0\n",
       " 0.0  0.0  0.0  0.0  0.0  0.0  0.0  0.0  0.0  0.0  0.0  0.0\n",
       " 0.0  0.0  0.0  0.0  0.0  0.0  0.0  0.0  0.0  0.0  0.0  0.0\n",
       " 0.0  0.0  0.0  0.0  0.0  0.0  0.0  0.0  0.0  0.0  0.0  0.0\n",
       " 0.0  0.0  0.0  0.0  0.0  0.0  0.0  0.0  0.0  0.0  0.0  0.0\n",
       " 0.0  0.0  0.0  0.0  0.0  0.0  0.0  0.0  0.0  0.0  0.0  0.0\n",
       " 0.0  0.0  0.0  0.0  0.0  0.0  0.0  0.0  0.0  0.0  0.0  0.0\n",
       " 0.0  0.0  0.0  0.0  0.0  0.0  0.0  0.0  0.0  0.0  0.0  0.0\n",
       " 0.0  0.0  0.0  0.0  0.0  0.0  0.0  0.0  0.0  0.0  0.0  0.0"
      ]
     },
     "execution_count": 144,
     "metadata": {},
     "output_type": "execute_result"
    }
   ],
   "source": [
    "J_o, M_o = p\n",
    "v = zeros(J_o,M_o)\n",
    "\n",
    "for j in 1:M_o\n",
    "    tiempo = @sprintf(\"%05d\", j)\n",
    "    jldopen(file_name, \"r+\") do file\n",
    "        v[:,j] = file[field_name * \"/u_$(tiempo)\"] \n",
    "    end\n",
    "end\n",
    "\n",
    "v - u"
   ]
  },
  {
   "cell_type": "code",
   "execution_count": null,
   "metadata": {},
   "outputs": [],
   "source": []
  }
 ],
 "metadata": {
  "kernelspec": {
   "display_name": "Julia 1.7.2",
   "language": "julia",
   "name": "julia-1.7"
  },
  "language_info": {
   "file_extension": ".jl",
   "mimetype": "application/julia",
   "name": "julia",
   "version": "1.7.2"
  },
  "orig_nbformat": 4
 },
 "nbformat": 4,
 "nbformat_minor": 2
}
