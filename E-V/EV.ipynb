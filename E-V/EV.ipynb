{
 "cells": [
  {
   "attachments": {},
   "cell_type": "markdown",
   "metadata": {},
   "source": [
    "## Einstein-Vlasov y spherical symmetry.\n",
    "\n",
    "The equations are:\n",
    "\n",
    "$$\n",
    "\\begin{aligned}\n",
    "\\partial_t f &= (f-2)2h + \\frac{(2-f)}{f}r[fT_{tr} - (f-1)T_{rr}] +  r[fT_{tt} - (f-1)T_{rt}] \n",
    "  + \\Lambda gr\n",
    "\\end{aligned}\n",
    "$$\n",
    "\n",
    "$$\n",
    "\\begin{aligned}\n",
    "\\partial_t g &= 2gh - \\frac{g}{f} [r[fT_{tt} - (f-1)T_{rt}] - \\Lambda fgr]\n",
    "\\end{aligned}\n",
    "$$\n",
    "\n",
    "$$\n",
    "\\begin{aligned}\n",
    "\\partial_t h &= \\partial_r h + \\textbf{YYY falta de concluir la cuenta de $G_{\\theta\\theta}$}\n",
    "\\end{aligned}\n",
    "$$\n"
   ]
  },
  {
   "attachments": {},
   "cell_type": "markdown",
   "metadata": {},
   "source": [
    "Subject to the constraints:\n",
    "\n",
    "$$\n",
    "g'/g = 2h - r\\frac{1}{f}[fT_{tr} - (f-1)T_{rr}] \n",
    "$$\n",
    "\n",
    "$$\n",
    "f' = (f-2)2h - \\frac{f+g-2}{r} + \\frac{2-f}{f}r[fT_{tr} - (f-1)T_{rr}] + r[fT_{tt} - (f-1)T_{rt}] - \\Lambda fgr\n",
    "$$"
   ]
  },
  {
   "attachments": {},
   "cell_type": "markdown",
   "metadata": {},
   "source": [
    "$$\n",
    "p_t= \\frac{{f-1}}{f}p_r - \\frac{1}{f}\\sqrt{p_r^2 + gf\\left(m^2 + \\frac{L^2}{r^2} \\right) }  \n",
    "$$\n",
    "\n",
    "We take the negative sign so that for future directed particles $\\dot{t}>0$ the energy is positive.\n",
    "I think we have to check that this is OK from the Hamiltonian definition..."
   ]
  },
  {
   "attachments": {},
   "cell_type": "markdown",
   "metadata": {},
   "source": [
    "The Vlasov equation becomes:\n",
    "\n",
    "$$\n",
    "\\dot t \\frac{\\partial F}{\\partial t} = -\\dot r \\frac{\\partial F}{\\partial r} - \\dot p_r \\frac{\\partial F}{\\partial p_r}\n",
    "$$\n",
    "\n",
    "with\n",
    "\\begin{align}\n",
    "m\\dot t &= \\frac{\\sqrt{p_r^2 + gf(\\frac{L^2}{r^2} + m^2)}}{g}\\\\\n",
    "m\\dot r &= \\frac{1}{gf} p_r - \\frac{(f-1)}{gf}\\sqrt{ p_r^2 + gf(\\frac{L^2}{r^2} + m^2)}\\\\\n",
    "\\dot{p}_r &= (\\frac{-f}{g})' p_t^2 + (\\frac{(f-1)}{gf})' p_t p_r + (\\frac{(2-f)}{g})' p_r^2 -\\frac{2}{r^3}L^2\n",
    "\\end{align}"
   ]
  },
  {
   "cell_type": "markdown",
   "metadata": {},
   "source": [
    "For $F = F(t,r,p_r,L)$\n",
    "\n"
   ]
  },
  {
   "cell_type": "code",
   "execution_count": null,
   "metadata": {},
   "outputs": [],
   "source": []
  }
 ],
 "metadata": {
  "kernelspec": {
   "display_name": "Julia 1.8.1",
   "language": "julia",
   "name": "julia-1.8"
  },
  "language_info": {
   "file_extension": ".jl",
   "mimetype": "application/julia",
   "name": "julia",
   "version": "1.8.1"
  },
  "orig_nbformat": 4,
  "vscode": {
   "interpreter": {
    "hash": "6b5c1dbe0dc266e26ed22644e4b580a2eecd1c10a9cb08ba57d74d47266d2c93"
   }
  }
 },
 "nbformat": 4,
 "nbformat_minor": 2
}
