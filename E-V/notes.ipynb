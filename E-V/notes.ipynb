{
 "cells": [
  {
   "cell_type": "markdown",
   "metadata": {},
   "source": [
    "## Notes on the Einstein-Vlasov system with sphericall symmetry."
   ]
  },
  {
   "cell_type": "markdown",
   "metadata": {},
   "source": [
    "#### Boltzmann equation\n",
    "\n",
    "From Rendall's paper:\n",
    "\n",
    "\n",
    "$$\n",
    "\\partial_t f + e^{\\mu - \\lambda} \\frac{w}{\\sqrt{1+u^2}}\\partial_r f - (\\dot{λ}w + e^{\\mu - \\lambda}μ' \\sqrt{1+u^2} - e^{\\mu - \\lambda} \\frac{L}{r^3\\sqrt{1+u^2}})\\partial_w f = 0\n",
    "$$"
   ]
  },
  {
   "cell_type": "markdown",
   "metadata": {},
   "source": [
    "On the other hand, using that $u^2 = w^2 + \\frac{L}{r^2}$\n",
    "\n",
    "\\begin{align}\n",
    "0 =& \\partial_t(e^{\\lambda}f) + \\partial_r(e^{\\mu}\\frac{w}{\\sqrt{1+u^2}}f) - \\partial_w(\\dot{\\lambda}e^{\\lambda} w f + e^{\\mu} μ' \\sqrt{1+u^2} f - e^{\\mu}\\frac{L}{r^3 \\sqrt{1+u^2}} f)\\\\\n",
    "=& e^{\\lambda}\\partial_t f + e^{\\lambda} \\dot{\\lambda} f + μ' e^{\\mu}\\frac{w}{\\sqrt{1+u^2}}f + e^{\\mu}\\frac{w}{\\sqrt{1+u^2}} \\partial_r f + e^{\\mu}\\frac{w}{\\sqrt{1+u^2}^3} \\frac{L}{r^3} f \\\\\n",
    "& - \\dot{\\lambda}e^{\\lambda} w \\partial_w f - \\dot{\\lambda}e^{\\lambda} f - e^{\\mu} μ' \\sqrt{1+u^2}\\partial_w f - e^{\\mu} \\mu' \\frac{w}{\\sqrt{1+u^2}} f - e^{\\mu}\\frac{L}{r^3} \\frac{w}{\\sqrt{1+u^2}^3}f\n",
    "+ e^{\\mu}\\frac{L}{r^3 \\sqrt{1+u^2}} \\partial_w f\\\\\n",
    "=&  e^{\\lambda}\\partial_t f + e^{\\mu}\\frac{w}{\\sqrt{1+u^2}} \\partial_r f \n",
    " - \\dot{\\lambda}e^{\\lambda} w \\partial_w f - e^{\\mu} μ' \\sqrt{1+u^2}\\partial_w f + e^{\\mu}\\frac{L}{r^3 \\sqrt{1+u^2}} \\partial_w f \\\\\n",
    "=& e^{\\lambda}\\partial_t f + e^{\\mu}\\frac{w}{\\sqrt{1+u^2}} \\partial_r f \n",
    "- (\\dot{\\lambda}e^{\\lambda} w  + e^{\\mu} μ' \\sqrt{1+u^2} - e^{\\mu}\\frac{L}{r^3 \\sqrt{1+u^2}}) \\partial_w f \n",
    "\\end{align}\n",
    "\n",
    "Thus, the system is conservative, as it should be."
   ]
  },
  {
   "cell_type": "markdown",
   "metadata": {},
   "source": [
    "Einstein's equations for the metric given by:\n",
    "\n",
    "$$\n",
    "-e^{2μ}dt^2 + e^{2λ}dr^2 + dΩ^2\n",
    "$$\n",
    "\n",
    "\\begin{align}\n",
    "G^{tt} => & e^{-2λ}(2rλ'-1) + 1 = 8πr^2ρ \\\\\n",
    "G^{rr} => & e^{-2λ}(2rμ'+1) - 1 = 8πr^2p \\\\\n",
    "G^{tr} => & \\dot{λ} = -4πre^{λ+μ}j\n",
    "\\end{align}"
   ]
  },
  {
   "cell_type": "markdown",
   "metadata": {},
   "source": []
  },
  {
   "cell_type": "markdown",
   "metadata": {},
   "source": []
  }
 ],
 "metadata": {
  "kernelspec": {
   "display_name": "Julia 1.8.1",
   "language": "julia",
   "name": "julia-1.8"
  },
  "language_info": {
   "file_extension": ".jl",
   "mimetype": "application/julia",
   "name": "julia",
   "version": "1.8.1"
  },
  "orig_nbformat": 4
 },
 "nbformat": 4,
 "nbformat_minor": 2
}
