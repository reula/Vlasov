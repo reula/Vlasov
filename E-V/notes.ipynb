{
 "cells": [
  {
   "cell_type": "markdown",
   "metadata": {},
   "source": [
    "## Notes on the Einstein-Vlasov system with sphericall symmetry."
   ]
  },
  {
   "cell_type": "markdown",
   "metadata": {},
   "source": [
    "#### Boltzmann equation\n",
    "\n",
    "From Rendall's paper:\n",
    "\n",
    "\n",
    "$$\n",
    "\\partial_t f + e^{\\mu - \\lambda} \\frac{w}{\\sqrt{1+u^2}}\\partial_r f - (\\dot{λ}w + e^{\\mu - \\lambda}μ' \\sqrt{1+u^2} - e^{\\mu - \\lambda} \\frac{L}{r^3\\sqrt{1+u^2}})\\partial_w f = 0\n",
    "$$"
   ]
  },
  {
   "cell_type": "markdown",
   "metadata": {},
   "source": [
    "On the other hand, using that $u^2 = w^2 + \\frac{L}{r^2}$\n",
    "\n",
    "\\begin{align}\n",
    "0 =& \\partial_t(e^{\\lambda}f) + \\partial_r(e^{\\mu}\\frac{w}{\\sqrt{1+u^2}}f) - \\partial_w(\\dot{\\lambda}e^{\\lambda} w f + e^{\\mu} μ' \\sqrt{1+u^2} f - e^{\\mu}\\frac{L}{r^3 \\sqrt{1+u^2}} f)\\\\\n",
    "=& e^{\\lambda}\\partial_t f + e^{\\lambda} \\dot{\\lambda} f + μ' e^{\\mu}\\frac{w}{\\sqrt{1+u^2}}f + e^{\\mu}\\frac{w}{\\sqrt{1+u^2}} \\partial_r f + e^{\\mu}\\frac{w}{\\sqrt{1+u^2}^3} \\frac{L}{r^3} f \\\\\n",
    "& - \\dot{\\lambda}e^{\\lambda} w \\partial_w f - \\dot{\\lambda}e^{\\lambda} f - e^{\\mu} μ' \\sqrt{1+u^2}\\partial_w f - e^{\\mu} \\mu' \\frac{w}{\\sqrt{1+u^2}} f - e^{\\mu}\\frac{L}{r^3} \\frac{w}{\\sqrt{1+u^2}^3}f\n",
    "+ e^{\\mu}\\frac{L}{r^3 \\sqrt{1+u^2}} \\partial_w f\\\\\n",
    "=&  e^{\\lambda}\\partial_t f + e^{\\mu}\\frac{w}{\\sqrt{1+u^2}} \\partial_r f \n",
    " - \\dot{\\lambda}e^{\\lambda} w \\partial_w f - e^{\\mu} μ' \\sqrt{1+u^2}\\partial_w f + e^{\\mu}\\frac{L}{r^3 \\sqrt{1+u^2}} \\partial_w f \\\\\n",
    "=& e^{\\lambda}\\partial_t f + e^{\\mu}\\frac{w}{\\sqrt{1+u^2}} \\partial_r f \n",
    "- (\\dot{\\lambda}e^{\\lambda} w  + e^{\\mu} μ' \\sqrt{1+u^2} - e^{\\mu}\\frac{L}{r^3 \\sqrt{1+u^2}}) \\partial_w f \n",
    "\\end{align}\n",
    "\n",
    "Thus, the system is conservative, as it should be."
   ]
  },
  {
   "cell_type": "markdown",
   "metadata": {},
   "source": [
    "Einstein's equations for the metric given by:\n",
    "\n",
    "$$\n",
    "-e^{2μ}dt^2 + e^{2λ}dr^2 + dΩ^2\n",
    "$$\n",
    "\n",
    "\\begin{align}\n",
    "G^{tt} => & e^{-2λ}(2rλ'-1) + 1 = 8πr^2ρ \\\\\n",
    "G^{rr} => & e^{-2λ}(2rμ'+1) - 1 = 8πr^2p \\\\\n",
    "G^{tr} => & \\dot{λ} = -4πre^{λ+μ}j\n",
    "\\end{align}"
   ]
  },
  {
   "cell_type": "markdown",
   "metadata": {},
   "source": []
  },
  {
   "cell_type": "markdown",
   "metadata": {},
   "source": [
    "From the metric we can compute the Einstein equations\n",
    "$$\n",
    "ds^2=-e^{2μ}dt^2 + e^{2λ}dr^2 + dΩ^2\n",
    "$$\n",
    "\n",
    "\\begin{align}\n",
    "G_{tt} &= e^{-2\\lambda+2\\mu}\\frac{-1+2r\\lambda'}{r^{2}}  \\\\\n",
    "G_{rr} &= \\frac{1+2r\\mu '}{r^2} \\\\\n",
    "G_{tr} &= \\frac{2\\dot{λ} }{r}\\\\\n",
    "G_{\\theta \\theta}& = e^{-2(\\lambda + \\mu)}r\\sin\\theta^{2}\\left( e^{2 \\mu}\\left(r \\mu'' + \\left( 1+ r \\mu'\\right)\\left(\\mu'-\\lambda' \\right) \\right) -e^{2\\lambda}r \\left(\\dot{\\lambda}^2-\\dot{\\lambda}\\dot{\\mu}+\\ddot{\\lambda} \\right) \\right)\n",
    "\\end{align}\n",
    "\n",
    "\n"
   ]
  },
  {
   "cell_type": "markdown",
   "metadata": {},
   "source": []
  },
  {
   "cell_type": "markdown",
   "metadata": {},
   "source": [
    "## Metric from the paper *On free evolution of self gravitating, spherically symmetric waves.*"
   ]
  },
  {
   "cell_type": "markdown",
   "metadata": {},
   "source": [
    "$$\n",
    "ds^2= -g(t,r)(2-f(t,r))dt^2+2(f(t,r)-1)g(t,r)drdt+f(t,r)g(t,r)dr^2+dΩ^2\n",
    "$$\n",
    "\n",
    "the geodesic equations by definition is \n",
    "\n",
    "$$v^\\mu\\partial_\\mu p_{\\nu} - v^\\mu \\Gamma^{\\lambda}_{\\mu \\nu}p_\\lambda  =0 $$"
   ]
  },
  {
   "cell_type": "markdown",
   "metadata": {},
   "source": [
    "the non zero christoffell symbols "
   ]
  },
  {
   "cell_type": "markdown",
   "metadata": {},
   "source": [
    "\\begin{align}\n",
    "\\Gamma^{t}_{tt}={\\frac { \\left( - f ^{2}+3\\,f -2 \\right) {\\frac {\\partial g }{\\partial r}} + \\left( f  ^{2\n",
    "}-2\\,f +2 \\right) {\\frac {\\partial g}{\\partial t}} -g  \\left(  \\left( f -1 \\right) {\\frac {\\partial f}{\\partial r}}  -  {\\frac {\\partial f}{\\partial t}}  \\left( f -2 \\right)  \\right) }{2 g }}\n",
    "\\end{align}\n",
    "\n",
    "\\begin{align}\n",
    "\\Gamma^{r}_{tt}={\\frac { \\left( f -2 \\right) ^{2}{\\frac {\n",
    "\\partial g}{\\partial r}} + \\left( -  f ^{2}+3\\,f -2 \\right) {\n",
    "\\frac {\\partial g}{\\partial t}} +g \\left(  \\left( f -2 \\right) {\\frac {\n",
    "\\partial f}{\\partial r}} -  {\\frac {\\partial \n",
    "f}{\\partial t}}   \\left( f -3 \\right)  \\right) }{2g }}\n",
    "\\end{align}\n",
    "\n",
    "\\begin{align}\n",
    "\\Gamma^{t}_{tr}={\\frac {g   \\left( f -1\n",
    " \\right) {\\frac {\\partial f }{\\partial t}}  -f  \\left(  \\left( f -2 \\right) {\n",
    "\\frac {\\partial g}{\\partial r}} + \\left( -f  +1 \\right) {\\frac {\\partial g}{\\partial t}} +g {\\frac {\\partial f}{\\partial r}}  \\right) }{2g}}\n",
    "\\end{align}\n",
    "\n",
    "\\begin{align}\n",
    "\\Gamma^{r}_{tr}={\\frac { \\left( f  ^{2}-3\\,f +2 \\right) {\\frac {\\partial g }{\\partial r}} +g \\left( f -1 \\right) {\\frac {\\partial f}{\\partial r}} - \\left( f -2 \\right)  \\left( {\\frac {\\partial g }{\\partial t}} f  +g  {\\frac {\\partial f}{\\partial t}}  \\right) }{2g }}\n",
    "\\end{align}\n",
    "\n",
    "\\begin{align}\n",
    "\\Gamma^{t}_{rr}={\\frac {-g  \\left( f +1\n",
    " \\right) {\\frac {\\partial f}{\\partial r}} -f  \\left(  \\left( f -1 \\right) {\n",
    "\\frac {\\partial g}{\\partial r}} -  {\\frac {\n",
    "\\partial g}{\\partial t}} f -g {\\frac {\\partial f}{\\partial t}}  \\right) }{2 g }}\n",
    "\\end{align}\n",
    "\n",
    "\\begin{align}\n",
    "\\Gamma^{r}_{rr}={\\frac { \\left(  f ^{2}-2\\,f +2 \\right) {\\frac {\\partial g}{\\partial r}} -g  \\left( f -1 \\right) {\\frac {\\partial f}{\\partial t}} -f   \\left(  \\left( f-1\\right) {\\frac {\\partial g}{\\partial t}} -g {\\frac {\\partial f}{\\partial r}}  \\right) }{ 2g }}\n",
    "\\end{align}\n",
    "\n",
    "\n",
    "\\begin{align}\n",
    "\\Gamma^{t}_{\\theta \\theta}&= -{\\frac { \\left( f  -1 \\right) r}{g }} \\\\\n",
    "\\Gamma^{r}_{\\theta \\theta}&= {\\frac { \\left( f  - 2 \\right) r}{g }} \\\\\n",
    "\\Gamma^{\\theta}_{r \\theta}&=\\Gamma^{\\phi}_{r \\phi} = \\frac{1}{r}\\\\\n",
    "\\Gamma^{t}_{\\phi \\phi}&= \\sin\\theta^2 \\Gamma^{t}_{\\theta \\theta}\\\\\n",
    "\\Gamma^{r}_{\\phi \\phi}&= \\sin\\theta^2 \\Gamma^{r}_{\\theta \\theta}\\\\\n",
    "\\Gamma^{\\phi}_{\\theta \\phi}&= \\frac{ \\cos \\theta }{\\sin \\theta}\\\\\n",
    "\\Gamma^{\\theta}_{\\phi \\phi}&= - \\sin \\theta \\cos\\theta\n",
    "\\end{align}"
   ]
  },
  {
   "cell_type": "markdown",
   "metadata": {},
   "source": [
    "## Einstein equations "
   ]
  },
  {
   "cell_type": "markdown",
   "metadata": {},
   "source": [
    "\\begin{align}\n",
    "G_{tt} &= \\frac{r \\left( f -2 \\right)^{2}{\\frac {\\partial g\n",
    "}{\\partial r}} -r \\left( f -1 \\right)  \\left( f  -2 \\right) \\frac {\\partial g}{\n",
    "\\partial t} }{g r^2} \\\\\n",
    "&- \\frac{ \\left( r \\left( f -2 \\right) {\\frac {\\partial f}{\\partial r}} -r \\left(f-1\\right) {\\frac {\\partial f}{\\partial t}} + \\left( f -2 \\right)  \\left( f +g -2\\right)  \\right) g  }{g r^2}\\\\\n",
    "G_{rr} &=  {\\frac {r \\left( f ^{2}-2\\,f +2 \\right) {\\frac {\\partial g}{\\partial r}} +rg  \\left( f +1 \\right) {\\frac {\\partial f}{\\partial t}} -f   \\left( r \\left( f - 1 \\right) {\\frac {\\partial g }{\\partial t}}  +g \\left(  \\left( {\\frac {\\partial f}{\\partial r}}  \\right) r+f  +g -2 \\right)  \\right) }{g {r}^{2}}} \\\\\n",
    "G_{tr} &= {\\frac {r \\left( f -1 \\right)  \\left( f -2 \\right) {\\frac {\\partial g}{\\partial r}} -g r \\left( f -1 \\right) {\\frac {\\partial f}{\\partial r}}  -rf  \\left( f -2 \\right) {\\frac {\n",
    "\\partial g}{\\partial t}} + \\left( rf {\\frac {\\partial f}{\\partial t}}  - \\left( \n",
    "f -1 \\right)  \\left( f  +g  -2 \\right)  \\right) g }{g {r}^{2}}}\n",
    "\\end{align}\n",
    "\n",
    "\n"
   ]
  },
  {
   "cell_type": "markdown",
   "metadata": {},
   "source": [
    "### For check: $\\theta \\theta$ component of Einstein equations "
   ]
  },
  {
   "cell_type": "markdown",
   "metadata": {},
   "source": [
    "$G_{\\theta \\theta} $  \n",
    " $ = \\frac { 1}{ g ^{3}}\n",
    "  \\left( \\frac{-g r^2 \\left( f -2 \\right)}{2} {\\frac {\\partial ^{2}g}{\\partial {r}^{2}}} +g r^2 \\left( f -1\\right) {\\frac {\\partial ^{2}g}{\\partial t\\partial r}} -  {\\frac {\\partial ^{2} f}{\\partial {r}^{2}}} \\frac{ g ^{2}r^2}{2}+ {\\frac {\\partial ^{2} f}{\\partial t\\partial r}}  g^{2}r^2-\n",
    "  {\\frac {\\partial ^{2} f}{\\partial {t}^{2}}} \\frac{g ^{2}r^2}{2}- {\\frac {\\partial ^{2}g}{\\partial {t}^{2}}}\\frac{f g r^2}{2} + \\frac{r^2 \\left( f -2 \\right) }{2} \\left( {\\frac {\\partial g}{\\partial r}}  \\right) ^{2} \\right)$\n",
    "  \n",
    " $ + \\frac { r}{ g ^{3}}\n",
    "  \\left( - \\left(  \\left( f -1 \\right) {\\frac {\\partial g}{\\partial t}} + \\frac{ g  \\left( {\\frac {\\partial f}{\\partial r}} -{\\frac {\\partial f}{\\partial t}} \\right) }{2} \\right) r{\\frac {\\partial g}{\\partial r}} +  \\left( {\\frac {\\partial g}{\\partial t}}  \\right) ^{2}\\frac{f r}{2}+ \\frac{g r}{2} \\left( {\\frac {\\partial f}{\\partial r}} -{\\frac {\\partial f}{\\partial t}}  \\right) {\\frac {\\partial g }{\\partial t}} -  g^{2} \\left( {\\frac {\\partial f}{\\partial r}} -{\\frac {\\partial f}{\\partial t}}\\right)  \\right) \n",
    "$"
   ]
  },
  {
   "cell_type": "markdown",
   "metadata": {},
   "source": [
    "In the code we evolve this version of the ecuations:"
   ]
  },
  {
   "cell_type": "markdown",
   "metadata": {},
   "source": [
    "\\begin{align}\n",
    "    \\partial_t f &= 2(f-2)h + \\frac{4\\chi_+^2}{fr} \\\\\n",
    "    \\partial_t g &= 2gh + \\frac{2g}{f^2 r}(-f\\chi_+^2 + (f-2)\\chi_-^2) \\\\\n",
    "    \\partial_t h &= \\partial_r h + \\frac{1}{f^2 r^2}((2-g)\\chi_+^2 + 4\\chi_+\\chi_- + g\\chi_-^2)\n",
    "\\end{align}\n",
    "\n",
    "\\begin{align}\n",
    "    C_f &= \\partial_r f -2(f-2)h + \\frac{f+g-2}{r} -4\\frac{\\chi_+^2}{fr}  \\\\\n",
    "    C_g &= \\partial_r g -\\frac{2g(hfr -\\chi_+^2 + \\chi_-^2)}{fr}\n",
    "\\end{align}"
   ]
  },
  {
   "cell_type": "markdown",
   "metadata": {},
   "source": []
  },
  {
   "cell_type": "markdown",
   "metadata": {},
   "source": [
    "The mass function is given by:\n",
    "\n",
    "$$\n",
    "m = \\frac{r}{2}(1+\\frac{f-2}{g})\n",
    "$$\n",
    "\n",
    "Thus, we have,\n",
    "\n",
    "\\begin{align}\n",
    "\\partial_t m &= \\frac{r}{2}(\\frac{\\partial_t f}{g} - \\frac{(f-2)\\partial_t g}{g^2}) \\\\\n",
    "&= \\frac{r}{2}(\\frac{2(f-2)h + \\frac{4\\chi_+^2}{fr}}{g} - \\frac{(f-2)(2gh + \\frac{2g}{f^2 r}(-f\\chi_+^2 + (f-2)\\chi_-^2))}{g^2}) \\\\\n",
    "&= \\frac{r}{2}(\\frac{ \\frac{4\\chi_+^2}{fr}}{g} - \\frac{(f-2)(\\frac{2g}{f^2 r}(-f\\chi_+^2 + (f-2)\\chi_-^2))}{g^2}) \\\\\n",
    "&= \\frac{\\chi_+^2 - \\frac{(f-2)^2}{f^2}\\chi_-^2 }{g}\n",
    "\\end{align}"
   ]
  },
  {
   "cell_type": "code",
   "execution_count": null,
   "metadata": {},
   "outputs": [],
   "source": []
  },
  {
   "cell_type": "code",
   "execution_count": null,
   "metadata": {},
   "outputs": [],
   "source": []
  },
  {
   "cell_type": "markdown",
   "metadata": {},
   "source": []
  }
 ],
 "metadata": {
  "kernelspec": {
   "display_name": "Julia 1.8.1",
   "language": "julia",
   "name": "julia-1.8"
  },
  "language_info": {
   "file_extension": ".jl",
   "mimetype": "application/julia",
   "name": "julia",
   "version": "1.8.1"
  },
  "orig_nbformat": 4
 },
 "nbformat": 4,
 "nbformat_minor": 2
}
