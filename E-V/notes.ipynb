{
 "cells": [
  {
   "cell_type": "markdown",
   "metadata": {},
   "source": [
    "## Notes on the Einstein-Vlasov system with sphericall symmetry."
   ]
  },
  {
   "cell_type": "markdown",
   "metadata": {},
   "source": [
    "#### Boltzmann equation\n",
    "\n",
    "From Rendall's paper:\n",
    "\n",
    "\n",
    "$$\n",
    "\\partial_t f + e^{\\mu - \\lambda} \\frac{w}{\\sqrt{1+u^2}}\\partial_r f - (\\dot{λ}w + e^{\\mu - \\lambda}μ' \\sqrt{1+u^2} - e^{\\mu - \\lambda} \\frac{L}{r^3\\sqrt{1+u^2}})\\partial_w f = 0\n",
    "$$"
   ]
  },
  {
   "cell_type": "markdown",
   "metadata": {},
   "source": [
    "On the other hand, using that $u^2 = w^2 + \\frac{L}{r^2}$\n",
    "\n",
    "\\begin{align}\n",
    "0 =& \\partial_t(e^{\\lambda}f) + \\partial_r(e^{\\mu}\\frac{w}{\\sqrt{1+u^2}}f) - \\partial_w(\\dot{\\lambda}e^{\\lambda} w f + e^{\\mu} μ' \\sqrt{1+u^2} f - e^{\\mu}\\frac{L}{r^3 \\sqrt{1+u^2}} f)\\\\\n",
    "=& e^{\\lambda}\\partial_t f + e^{\\lambda} \\dot{\\lambda} f + μ' e^{\\mu}\\frac{w}{\\sqrt{1+u^2}}f + e^{\\mu}\\frac{w}{\\sqrt{1+u^2}} \\partial_r f + e^{\\mu}\\frac{w}{\\sqrt{1+u^2}^3} \\frac{L}{r^3} f \\\\\n",
    "& - \\dot{\\lambda}e^{\\lambda} w \\partial_w f - \\dot{\\lambda}e^{\\lambda} f - e^{\\mu} μ' \\sqrt{1+u^2}\\partial_w f - e^{\\mu} \\mu' \\frac{w}{\\sqrt{1+u^2}} f - e^{\\mu}\\frac{L}{r^3} \\frac{w}{\\sqrt{1+u^2}^3}f\n",
    "+ e^{\\mu}\\frac{L}{r^3 \\sqrt{1+u^2}} \\partial_w f\\\\\n",
    "=&  e^{\\lambda}\\partial_t f + e^{\\mu}\\frac{w}{\\sqrt{1+u^2}} \\partial_r f \n",
    " - \\dot{\\lambda}e^{\\lambda} w \\partial_w f - e^{\\mu} μ' \\sqrt{1+u^2}\\partial_w f + e^{\\mu}\\frac{L}{r^3 \\sqrt{1+u^2}} \\partial_w f \\\\\n",
    "=& e^{\\lambda}\\partial_t f + e^{\\mu}\\frac{w}{\\sqrt{1+u^2}} \\partial_r f \n",
    "- (\\dot{\\lambda}e^{\\lambda} w  + e^{\\mu} μ' \\sqrt{1+u^2} - e^{\\mu}\\frac{L}{r^3 \\sqrt{1+u^2}}) \\partial_w f \n",
    "\\end{align}\n",
    "\n",
    "Thus, the system is conservative, as it should be."
   ]
  },
  {
   "cell_type": "markdown",
   "metadata": {},
   "source": [
    "Einstein's equations for the metric given by:\n",
    "\n",
    "$$\n",
    "-e^{2μ}dt^2 + e^{2λ}dr^2 + dΩ^2\n",
    "$$\n",
    "\n",
    "\\begin{align}\n",
    "G^{tt} => & e^{-2λ}(2rλ'-1) + 1 = 8πr^2ρ \\\\\n",
    "G^{rr} => & e^{-2λ}(2rμ'+1) - 1 = 8πr^2p \\\\\n",
    "G^{tr} => & \\dot{λ} = -4πre^{λ+μ}j\n",
    "\\end{align}"
   ]
  },
  {
   "cell_type": "markdown",
   "metadata": {},
   "source": []
  },
  {
   "cell_type": "markdown",
   "metadata": {},
   "source": [
    "From the metric we can compute the Einstein equations\n",
    "$$\n",
    "ds^2=-e^{2μ}dt^2 + e^{2λ}dr^2 + dΩ^2\n",
    "$$\n",
    "\n",
    "\\begin{align}\n",
    "G_{tt} &= e^{-2\\lambda+2\\mu}\\frac{-1+2r\\lambda'}{r^{2}}  \\\\\n",
    "G_{rr} &= \\frac{1+2r\\mu '}{r^2} \\\\\n",
    "G_{tr} &= \\frac{2\\dot{λ} }{r}\\\\\n",
    "G_{\\theta \\theta}& = e^{-2(\\lambda + \\mu)}r\\sin\\theta^{2}\\left( e^{2 \\mu}\\left(r \\mu'' + \\left( 1+ r \\mu'\\right)\\left(\\mu'-\\lambda' \\right) \\right) -e^{2\\lambda}r \\left(\\dot{\\lambda}^2-\\dot{\\lambda}\\dot{\\mu}+\\ddot{\\lambda} \\right) \\right)\n",
    "\\end{align}\n",
    "\n",
    "\n"
   ]
  },
  {
   "cell_type": "markdown",
   "metadata": {},
   "source": []
  },
  {
   "cell_type": "markdown",
   "metadata": {},
   "source": [
    "## Metric from the paper *On free evolution of self gravitating, spherically symmetric waves.*"
   ]
  },
  {
   "cell_type": "markdown",
   "metadata": {},
   "source": [
    "$$\n",
    "ds^2= -g(t,r)(2-f(t,r))dt^2+2(f(t,r)-1)g(t,r)drdt+f(t,r)g(t,r)dr^2+dΩ^2\n",
    "$$\n",
    "\n",
    "$$\n",
    "g_{\\mu\\nu} = \\left(\n",
    "    \\begin{array}{cccc} \n",
    "    -g(2-f) & g(f-1) & 0 & 0 \\\\\n",
    "    g(f-1) & gf & 0 & 0 \\\\\n",
    "    0 & 0 & r^2 sin^2(\\theta) & 0 \\\\\n",
    "    0 & 0 & 0 & r^2\n",
    "    \\end{array}\n",
    "    \\right)\n",
    "$$\n",
    "\n",
    "$$\n",
    "g^{\\mu\\nu} = \\left(\n",
    "    \\begin{array}{cccc} \n",
    "    -(2-f)/g & (f-1)/g & 0 & 0 \\\\\n",
    "    (f-1)/g & f/g & 0 & 0 \\\\\n",
    "    0 & 0 & r^{-2}/ sin^2(\\theta) & 0 \\\\\n",
    "    0 & 0 & 0 & r^{-2}\n",
    "    \\end{array}\n",
    "    \\right)\n",
    "$$\n",
    "\n",
    "the geodesic equations by definition is **not sure this is OK see below** \n",
    "\n",
    "$$\n",
    "v^\\mu\\partial_\\mu p_{\\nu} - v^\\mu \\Gamma^{\\lambda}_{\\mu \\nu}p_\\lambda  =0 \n",
    "$$\n",
    "\n",
    "The determinant of the metric is \n",
    "\n",
    "$$\n",
    "\\sqrt{g_{\\mu\\nu}} = gr^2\n",
    "$$"
   ]
  },
  {
   "cell_type": "markdown",
   "metadata": {},
   "source": [
    "the non zero christoffell symbols "
   ]
  },
  {
   "cell_type": "markdown",
   "metadata": {},
   "source": [
    "\\begin{align}\n",
    "\\Gamma^{t}_{tt}={\\frac { \\left( - f ^{2}+3\\,f -2 \\right) {\\frac {\\partial g }{\\partial r}} + \\left( f  ^{2\n",
    "}-2\\,f +2 \\right) {\\frac {\\partial g}{\\partial t}} -g  \\left(  \\left( f -1 \\right) {\\frac {\\partial f}{\\partial r}}  -  {\\frac {\\partial f}{\\partial t}}  \\left( f -2 \\right)  \\right) }{2 g }}\n",
    "\\end{align}\n",
    "\n",
    "\\begin{align}\n",
    "\\Gamma^{r}_{tt}={\\frac { \\left( f -2 \\right) ^{2}{\\frac {\n",
    "\\partial g}{\\partial r}} + \\left( -  f ^{2}+3\\,f -2 \\right) {\n",
    "\\frac {\\partial g}{\\partial t}} +g \\left(  \\left( f -2 \\right) {\\frac {\n",
    "\\partial f}{\\partial r}} -  {\\frac {\\partial \n",
    "f}{\\partial t}}   \\left( f -3 \\right)  \\right) }{2g }}\n",
    "\\end{align}\n",
    "\n",
    "\\begin{align}\n",
    "\\Gamma^{t}_{tr}={\\frac {g   \\left( f -1\n",
    " \\right) {\\frac {\\partial f }{\\partial t}}  -f  \\left(  \\left( f -2 \\right) {\n",
    "\\frac {\\partial g}{\\partial r}} + \\left( -f  +1 \\right) {\\frac {\\partial g}{\\partial t}} +g {\\frac {\\partial f}{\\partial r}}  \\right) }{2g}}\n",
    "\\end{align}\n",
    "\n",
    "\\begin{align}\n",
    "\\Gamma^{r}_{tr}={\\frac { \\left( f  ^{2}-3\\,f +2 \\right) {\\frac {\\partial g }{\\partial r}} +g \\left( f -1 \\right) {\\frac {\\partial f}{\\partial r}} - \\left( f -2 \\right)  \\left( {\\frac {\\partial g }{\\partial t}} f  +g  {\\frac {\\partial f}{\\partial t}}  \\right) }{2g }}\n",
    "\\end{align}\n",
    "\n",
    "\\begin{align}\n",
    "\\Gamma^{t}_{rr}={\\frac {-g  \\left( f +1\n",
    " \\right) {\\frac {\\partial f}{\\partial r}} -f  \\left(  \\left( f -1 \\right) {\n",
    "\\frac {\\partial g}{\\partial r}} -  {\\frac {\n",
    "\\partial g}{\\partial t}} f -g {\\frac {\\partial f}{\\partial t}}  \\right) }{2 g }}\n",
    "\\end{align}\n",
    "\n",
    "\\begin{align}\n",
    "\\Gamma^{r}_{rr}={\\frac { \\left(  f ^{2}-2\\,f +2 \\right) {\\frac {\\partial g}{\\partial r}} -g  \\left( f -1 \\right) {\\frac {\\partial f}{\\partial t}} -f   \\left(  \\left( f-1\\right) {\\frac {\\partial g}{\\partial t}} -g {\\frac {\\partial f}{\\partial r}}  \\right) }{ 2g }}\n",
    "\\end{align}\n",
    "\n",
    "\n",
    "\\begin{align}\n",
    "\\Gamma^{t}_{\\theta \\theta}&= -{\\frac { \\left( f  -1 \\right) r}{g }} \\\\\n",
    "\\Gamma^{r}_{\\theta \\theta}&= {\\frac { \\left( f  - 2 \\right) r}{g }} \\\\\n",
    "\\Gamma^{\\theta}_{r \\theta}&=\\Gamma^{\\phi}_{r \\phi} = \\frac{1}{r}\\\\\n",
    "\\Gamma^{t}_{\\phi \\phi}&= \\sin\\theta^2 \\Gamma^{t}_{\\theta \\theta}\\\\\n",
    "\\Gamma^{r}_{\\phi \\phi}&= \\sin\\theta^2 \\Gamma^{r}_{\\theta \\theta}\\\\\n",
    "\\Gamma^{\\phi}_{\\theta \\phi}&= \\frac{ \\cos \\theta }{\\sin \\theta}\\\\\n",
    "\\Gamma^{\\theta}_{\\phi \\phi}&= - \\sin \\theta \\cos\\theta\n",
    "\\end{align}"
   ]
  },
  {
   "cell_type": "markdown",
   "metadata": {},
   "source": [
    "## Einstein equations including Cosmological constant "
   ]
  },
  {
   "cell_type": "markdown",
   "metadata": {},
   "source": [
    "\\begin{align*}\n",
    "G_{tt} &= \\frac{r \\left( f -2 \\right)^{2}{\\frac {\\partial g\n",
    "}{\\partial r}} -r \\left( f -1 \\right)  \\left( f  -2 \\right) \\frac {\\partial g}{\n",
    "\\partial t} }{g r^2} - \\Lambda \\left( f- 2\\right) g \\\\\n",
    "&- \\frac{ \\left( r \\left( f -2 \\right) {\\frac {\\partial f}{\\partial r}} -r \\left(f-1\\right) {\\frac {\\partial f}{\\partial t}} + \\left( f -2 \\right)  \\left( f +g -2\\right)  \\right) g  }{g r^2}\\\\\n",
    "G_{rr} &=  {\\frac {r \\left( f ^{2}-2\\,f +2 \\right) {\\frac {\\partial g}{\\partial r}} +rg  \\left( f +1 \\right) {\\frac {\\partial f}{\\partial t}} -f   \\left( r \\left( f - 1 \\right) {\\frac {\\partial g }{\\partial t}}  +g \\left(  \\left( {\\frac {\\partial f}{\\partial r}}  \\right) r+f  +g -2 \\right)  \\right) }{g {r}^{2}}} - \\Lambda f g \\\\\n",
    "G_{tr} &= {\\frac {r \\left( f -1 \\right)  \\left( f -2 \\right) {\\frac {\\partial g}{\\partial r}} -g r \\left( f -1 \\right) {\\frac {\\partial f}{\\partial r}}  -rf  \\left( f -2 \\right) {\\frac {\n",
    "\\partial g}{\\partial t}} + \\left( rf {\\frac {\\partial f}{\\partial t}}  - \\left(f -1 \\right)  \\left( f  +g  -2 \\right)  \\right) g }{g {r}^{2}}} - \\Lambda g \\left(f-1 \\right)\n",
    "\\end{align*}\n",
    "\n",
    "\n"
   ]
  },
  {
   "cell_type": "markdown",
   "metadata": {},
   "source": [
    "\\begin{align}\n",
    "& r[G_{tt}(f-1) - G_{rt}(f-2)] \\\\\n",
    "&= (f-1)(f-2)^2 g'/g - (f-1)^2(f-2)\\dot{g}/g - (f-1)(f-2)f' + (f-1)^2\\dot{f} - (f-1)(f-2)(f+g -2)/r \\\\\n",
    "& - (f-1)(f-2)^2g' + (f-1)(f-2) f' + f(f-2)^2\\dot{g}/g - f(f-2)\\dot{f} + (f-1)(f-2)(f+g-2)/r \\\\\n",
    "&= \\dot{g}/g(f-2)(-(f-1)^2 + f(f-2)] + \\dot{f}((f-1)^2 - f(f-2)) \\\\\n",
    "&= - \\dot{g}/g(f-2) + \\dot{f}\n",
    "\\end{align}"
   ]
  },
  {
   "cell_type": "markdown",
   "metadata": {},
   "source": [
    "### For check: $\\theta \\theta$ component of Einstein equations "
   ]
  },
  {
   "cell_type": "markdown",
   "metadata": {},
   "source": [
    "$G_{\\theta \\theta} $  \n",
    " $ = \\frac { 1}{ g ^{3}}\n",
    "  \\left( \\frac{-g r^2 \\left( f -2 \\right)}{2} {\\frac {\\partial ^{2}g}{\\partial {r}^{2}}} +g r^2 \\left( f -1\\right) {\\frac {\\partial ^{2}g}{\\partial t\\partial r}} -  {\\frac {\\partial ^{2} f}{\\partial {r}^{2}}} \\frac{ g ^{2}r^2}{2}+ {\\frac {\\partial ^{2} f}{\\partial t\\partial r}}  g^{2}r^2-\n",
    "  {\\frac {\\partial ^{2} f}{\\partial {t}^{2}}} \\frac{g ^{2}r^2}{2}- {\\frac {\\partial ^{2}g}{\\partial {t}^{2}}}\\frac{f g r^2}{2} + \\frac{r^2 \\left( f -2 \\right) }{2} \\left( {\\frac {\\partial g}{\\partial r}}  \\right) ^{2} \\right)$\n",
    "  \n",
    " $ + \\frac { r}{ g ^{3}}\n",
    "  \\left( - \\left(  \\left( f -1 \\right) {\\frac {\\partial g}{\\partial t}} + \\frac{ g  \\left( {\\frac {\\partial f}{\\partial r}} -{\\frac {\\partial f}{\\partial t}} \\right) }{2} \\right) r{\\frac {\\partial g}{\\partial r}} +  \\left( {\\frac {\\partial g}{\\partial t}}  \\right) ^{2}\\frac{f r}{2}+ \\frac{g r}{2} \\left( {\\frac {\\partial f}{\\partial r}} -{\\frac {\\partial f}{\\partial t}}  \\right) {\\frac {\\partial g }{\\partial t}} -  g^{2} \\left( {\\frac {\\partial f}{\\partial r}} -{\\frac {\\partial f}{\\partial t}}\\right)  \\right)  - \\Lambda r^2\\sin\\theta ^2\n",
    "  \\left( - \\left(  \\left( f -1 \\right) {\\frac {\\partial g}{\\partial t}} + \\frac{ g  \\left( {\\frac {\\partial f}{\\partial r}} -{\\frac {\\partial f}{\\partial t}} \\right) }{2} \\right) r{\\frac {\\partial g}{\\partial r}} +  \\left( {\\frac {\\partial g}{\\partial t}}  \\right) ^{2}\\frac{f r}{2}+ \\frac{g r}{2} \\left( {\\frac {\\partial f}{\\partial r}} -{\\frac {\\partial f}{\\partial t}}  \\right) {\\frac {\\partial g }{\\partial t}} -  g^{2} \\left( {\\frac {\\partial f}{\\partial r}} -{\\frac {\\partial f}{\\partial t}}\\right)  \\right)  - \\Lambda r^2\n",
    "$"
   ]
  },
  {
   "cell_type": "markdown",
   "metadata": {},
   "source": [
    "In the code we evolve this version of the ecuations:"
   ]
  },
  {
   "cell_type": "markdown",
   "metadata": {},
   "source": [
    "\\begin{align}\n",
    "    \\partial_t f &= 2(f-2)h + \\frac{4\\chi_+^2}{fr} \\\\\n",
    "    \\partial_t g &= 2gh + \\frac{2g}{f^2 r}(-f\\chi_+^2 + (f-2)\\chi_-^2) \\\\\n",
    "    \\partial_t h &= \\partial_r h + \\frac{1}{f^2 r^2}((2-g)\\chi_+^2 + 4\\chi_+\\chi_- + g\\chi_-^2)\n",
    "\\end{align}\n",
    "\n",
    "\\begin{align}\n",
    "    C_f &= \\partial_r f -2(f-2)h + \\frac{f+g-2}{r} -4\\frac{\\chi_+^2}{fr}  \\\\\n",
    "    C_g &= \\partial_r g - 2gh -\\frac{2g( -\\chi_+^2 + \\chi_-^2)}{fr}\n",
    "\\end{align}"
   ]
  },
  {
   "cell_type": "markdown",
   "metadata": {},
   "source": [
    "The equations for the scalar field are: \n",
    "\n",
    "\\begin{align}\n",
    "\\partial_t \\chi_+ &= \\partial_r \\chi_+ - \\frac{f-2}{fr}\\chi_- \\\\\n",
    "\\partial_t \\chi_- &= \\frac{f-2}{f}\\partial_r \\chi_- + \\frac{2}{f^2}\\chi_-(2(f-2)h - \\frac{f+g-2}{r} + \\frac{4}{fr}\\chi^2_+) - \\frac{\\chi_+}{r}\\\\\n",
    "\\end{align}\n",
    "\n",
    "Where\n",
    "\n",
    "$$ \n",
    "\\chi_{\\pm} = r\\frac{\\Pi \\pm \\Phi}{2}\n",
    "$$\n",
    "\n",
    "and \n",
    "**la que sigue no parece ser cierta, no se de donde la saqué**\n",
    "\\begin{align}\n",
    "\\Pi &= f\\partial_t \\phi - (f-1)\\partial_r \\phi \\\\\n",
    "\\Phi &= \\partial_r \\phi \n",
    "\\end{align}\n",
    "\n",
    "Thus, \n",
    "\n",
    "$$\n",
    "\\partial_t \\phi = \\frac{1}{f}(\\Pi + (f-1)\\Phi) = \\frac{1}{rf}(f\\chi_+ + (f-2)\\chi_-)\n",
    "$$\n",
    "**no se de donde saqué la de arriba** la correcta, según el paper es:\n",
    "\n",
    "$$\n",
    "\\partial_t \\phi = \\Pi = \\frac{\\chi_+ + \\chi_-}{r}\n",
    "$$\n",
    "\n",
    "$$\n",
    "\\partial_r \\phi = \\frac{\\chi_+ - \\chi_-}{r}\n",
    "$$"
   ]
  },
  {
   "cell_type": "markdown",
   "metadata": {},
   "source": []
  },
  {
   "cell_type": "markdown",
   "metadata": {},
   "source": [
    "The mass function is given by:\n",
    "\n",
    "$$\n",
    "m = \\frac{r}{2}(1+\\frac{f-2}{g})\n",
    "$$\n",
    "\n",
    "Thus, we have,\n",
    "\n",
    "\\begin{align}\n",
    "\\partial_t m &= \\frac{r}{2}(\\frac{\\partial_t f}{g} - \\frac{(f-2)\\partial_t g}{g^2}) \\\\\n",
    "&= \\frac{r}{2}(\\frac{2(f-2)h + \\frac{4\\chi_+^2}{fr}}{g} - \\frac{(f-2)(2gh + \\frac{2g}{f^2 r}(-f\\chi_+^2 + (f-2)\\chi_-^2))}{g^2}) \\\\\n",
    "&= \\frac{r}{2}(\\frac{ \\frac{4\\chi_+^2}{fr}}{g} - \\frac{(f-2)(\\frac{2g}{f^2 r}(-f\\chi_+^2 + (f-2)\\chi_-^2))}{g^2}) \\\\\n",
    "&= \\frac{\\chi_+^2 - \\frac{(f-2)^2}{f^2}\\chi_-^2 }{g}\n",
    "\\end{align}"
   ]
  },
  {
   "cell_type": "markdown",
   "metadata": {},
   "source": [
    "### On the definition of h.\n",
    "\n",
    "There are several posibilities to define $h$ from the equations on the paper. From equation (4) of the paper we have:\n",
    "\n",
    "$$\n",
    "\\partial_t f - \\partial_r f -\\frac{f+g-2}{r} = 0\n",
    "$$\n",
    "\n",
    "$$\n",
    "\\partial_t g + \\frac{g}{f} \\partial_r f - \\frac{f-2}{f} \\partial_r g - 2gh - \\frac{g}{f}\\frac{f+g-2}{r} = 0\n",
    "$$\n"
   ]
  },
  {
   "cell_type": "markdown",
   "metadata": {},
   "source": [
    "We obtain:\n",
    "\n",
    "$$\n",
    "\\partial_t g - \\frac{f-2}{f} \\partial_r g - 2gh -\\frac{g}{f}(\\partial_t f - 2\\partial_r f) = 0\n",
    "$$\n",
    "\n",
    "$$\n",
    "h = \\frac{1}{2g}(\\partial_t g - \\frac{f-2}{f} \\partial_r g) -\\frac{1}{2f}(\\partial_t f - 2\\partial_r f) = 0\n",
    "$$\n",
    "\n",
    "**I don't like the factor 2 in front of $\\partial_r f$.**\n",
    "\n",
    "Substituting this into the equation for $h$ we should obtain the equation for $G_{θθ}$. \n",
    "\n"
   ]
  },
  {
   "cell_type": "markdown",
   "metadata": {},
   "source": []
  },
  {
   "cell_type": "markdown",
   "metadata": {},
   "source": [
    "Reducing the einstein equations with the first 2 equations for time derivatives: $\\dot{g}$ and $\\dot{f}$, denoting $\\frac{\\partial}{\\partial r} = '$:\n",
    "\n",
    "\n",
    "$$\n",
    "G_{tt}= -\\frac{1}{r^2} \\left(f \\left(r f'-2 (f+1) r h +2 \\chi_{-}^{2}-2 \\chi_{+}^{2}-4\\right)+2 \\left(-r f'+f r h -5 \\chi _{-}^{2}+\\chi_{+}^{2}+2\\right)-\\frac{r (f-2)^2 g'}{g} \\right)\n",
    "$$\n",
    "$$\n",
    "-\\frac{1}{r^2}\\left(\\left(\\Lambda  r^2+1\\right) (f-2)g + f^2 (2 r h+1)+\\frac{16 \\chi_{-}^2}{f}-\\frac{8 \\chi_{-}^2}{f^2}\\right) \n",
    "$$\n",
    "\n",
    "\n",
    "$$\n",
    "G_{rr}=-\\frac{1}{r^2} \\left(f \\left(r f'-2 (f-1) r h+2\\chi_{-}^2-2 \\chi_{+}^2-2\\right)-\\frac{r \\left(f^2-2 f+2\\right) g'}{g}+\\left(\\Lambda  r^2+1\\right) f g \\right)\n",
    "$$\n",
    "$$\n",
    "-\\frac{1}{r^2}\\left(-2 \\left((f-2) r h +3 \\chi_{-}^2+\\chi_{+}^2\\right)+f^2 (2 r h+1)+\\frac{4 \\left(\\chi_{-}^2-\\chi_{+}^2\\right)}{f} \\right)\n",
    "$$\n",
    "\n",
    "\n",
    "\n",
    "$$\n",
    "G_{rt}=-\\frac{1}{r^2} \\left(f \\left(r f'-2 f r h +2 \\chi_{-} ^2-2 \\chi _{+}^2-3\\right)-r f'-\\frac{r \\left(f^2-3 f+2\\right) g'}{g}+\\left(\\Lambda  r^2+1\\right) (f-1) g \\right) \n",
    "$$\n",
    "$$\n",
    "-\\frac{1}{r^2} \\left( + f ^2 (2 r h+1)+\\frac{8\\chi_{-}^2}{f}-8\\chi_{-}^2+2\\right)\n",
    "$$"
   ]
  },
  {
   "cell_type": "markdown",
   "metadata": {},
   "source": []
  },
  {
   "cell_type": "markdown",
   "metadata": {},
   "source": [
    "## Spherically symmetric space times. \n",
    "\n",
    "We do de calculations using other names for the metric components and at the end substitute.\n",
    "\n",
    "$$ \n",
    "ds^2 = -adt^2 + 2b dtdr + c dr^2 + r^2 dΩ\n",
    "$$\n",
    "\n",
    "$$\n",
    "a = g(2-f),\\;\\;\\; b = g(f-1), \\;\\;\\; c = gf\n",
    "$$\n",
    "\n",
    "$$\n",
    "det(g_{\\mu\\nu}) = -(ac + b^2)r^4 \\sin ^2 \\theta= g^2r^4\n",
    "$$\n",
    "\n",
    "$$\n",
    "g^{\\mu\\nu} = \\frac{1}{det_g}\\left(\n",
    "    \\begin{array}{cccc}\n",
    "    -c & b & 0 & 0 \\\\\n",
    "     b & a & 0 & 0 \\\\\n",
    "     0 & 0 & r^2 & 0 \\\\\n",
    "     0 & 0 & 0 & r^2 sin^2\\theta \\\\\n",
    "    \\end{array}\n",
    "    \\right)\n",
    "$$\n",
    "\n",
    "Inverse of the metric ... \n",
    "\n",
    "$$ d= ac+ b^2 $$\n",
    "\n",
    "\n"
   ]
  },
  {
   "cell_type": "markdown",
   "metadata": {},
   "source": [
    "Paola: //\n",
    "the inverse of the metric \n",
    "$$\n",
    "g^{\\mu\\nu} = \\left(\n",
    "    \\begin{array}{cccc}\n",
    "    -\\frac{c}{d} & \\frac{b}{d} & 0 & 0 \\\\\n",
    "     \\frac{b}{d} & \\frac{a}{d} & 0 & 0 \\\\\n",
    "    -\\frac{c}{\\Delta} &\\frac{b}{\\Delta} & 0 & 0 \\\\\n",
    "     \\frac{b}{\\Delta} & \\frac{a}{\\Delta} & 0 & 0 \\\\\n",
    "     0 & 0 & \\frac{1}{r^2} & 0 \\\\\n",
    "     0 & 0 & 0 & \\frac{1}{r^2 sin^2\\theta} \\\\\n",
    "    \\end{array}\n",
    "    \\right)\n",
    "$$\n",
    "where we use $$ \\Delta= ac+ b^2 $$, using the definition of the free particle Hamiltonian from the paper arxiv:1611.02389v2\n",
    "$$ H(x,p) = \\frac{1}{2} p_\\mu p_\\nu g^{\\mu\\nu} = \\frac{-m^2}{2}$$\n",
    "$$ \\frac{-m^2}{2} = \\frac{1}{2}\\left( p_t^2 g^{tt}+ 2 p_t p_r g^{tr} + p_r^2 g^{rr} + p_{\\theta}^2 g^{\\theta \\theta} + p_{\\phi}^2 g^{\\phi \\phi}\\right)$$\n",
    "\n",
    "$$ -m^2 = \\left(-\\frac{c}{\\Delta} p_t^2 + 2 p_t p_r \\frac{b}{\\Delta}+ p_r^2 \\frac{a}{\\Delta}+ \\frac{ p_{\\theta}^2 }{r^2} + \\frac{p_{\\phi}^2}{r^2 \\sin \\theta ^2} \\right)$$\n",
    "the functions on the metric depend of $(t,r)$ so we can separate the left side and right side that depends of diferents fucntions $ \\left(-m^2 + \\frac{c}{\\Delta} p_t^2 - 2 p_t p_r \\frac{b}{\\Delta}- p_r^2 \\frac{a}{\\Delta} \\right) r^2=  \\left(  p_{\\theta}^2+ \\frac{p_{\\phi}^2}{ \\sin \\theta ^2}\\right)= L^2 $\n",
    "\n",
    "$$ -m^2 + \\frac{c}{\\Delta} p_t^2 - 2 p_t p_r \\frac{b}{\\Delta}- p_r^2 \\frac{a}{\\Delta} - \\frac{L^2}{ r^2}= 0 $$\n",
    "\n",
    "$$p_t^2 - \\frac{2b}{c}p_t p_r - \\left(\\frac{a}{c}p_r^2 + \\left(m^2 + \\frac{L^2}{r^2} \\right)\\frac{\\Delta}{c} \\right) =0   $$\n",
    "\n",
    "solve for $p_t$\n",
    "\n",
    "$$\n",
    "p_t^{\\pm}= \\frac{b}{c}p_r \\pm \\sqrt{\\Delta}\\sqrt{\\frac{p_r^2}{c^2} + \\frac{1}{c}\\left(m^2 + \\frac{L^2}{r^2} \\right) }  \n",
    "$$"
   ]
  },
  {
   "cell_type": "markdown",
   "metadata": {},
   "source": [
    "We deduce the formulae from an action principle. \n",
    "\n",
    "$$\n",
    "\\mathcal{L} = \\frac{m}{2} g_{\\mu\\nu}\\dot x^{\\mu} \\dot x^{\\nu} \n",
    "$$\n",
    "\n",
    "$$\n",
    "p_{\\mu} = \\frac{\\partial \\mathcal{L}}{\\partial \\dot x^{\\mu}} = m g_{\\mu\\nu} \\dot x^{\\nu}\n",
    "$$\n",
    "\n",
    "$$\n",
    "\\mathcal{H} := p_{\\mu} \\dot x^{\\mu} -  \\mathcal{L} = \\frac{1}{2m}g^{\\mu \\nu}p_{\\mu}p_{\\nu}\n",
    "$$\n",
    "\n",
    "\\begin{align}\n",
    "\\dot x^{\\mu} &= \\frac{\\partial \\mathcal{H}}{\\partial p_{\\mu}} = \\frac{1}{m} p^{\\mu}\\\\\n",
    "\\dot p_{\\mu} &= -\\frac{\\partial \\mathcal{H}}{\\partial x{\\mu}} = -\\frac{1}{2m} \\frac{\\partial g^{\\sigma\\nu} }{\\partial x^{\\mu}}  p_{\\sigma}p_{\\nu}\n",
    "\\end{align}\n",
    "\n",
    "Notice that this formulae are, for instance in: https://terrytao.wordpress.com/2010/06/07/the-euler-arnold-equation/\n",
    "\n"
   ]
  },
  {
   "cell_type": "markdown",
   "metadata": {},
   "source": [
    "For each particle we choose coordinates $(\\theta, \\phi)$ so that $\\theta = \\pi$. \n",
    "Then $p_{\\phi}=L$ is constant and we can choose $p_{\\theta} = 0$.\n",
    "\n",
    "Also we have that $m$ is constant and given by,\n",
    "$$\n",
    "-m^2 = g^{\\mu \\nu}p_{\\mu}p_{\\nu} = \\frac{1}{\\Delta}[-cp_t^2 + 2bp_rp_t + ap_rp_r] + \\frac{L^2}{r^2}\n",
    "$$\n",
    "where $\\Delta = ac + b^2$\n",
    "We then have, \n",
    "\n",
    "$$\n",
    "p_t = \\frac{bp_r}{c} \\pm \\sqrt{\\frac{1}{c^2}p_r^2 + \\frac{1}{c}(\\frac{L^2}{r^2} + m^2)}\\sqrt{\\Delta}\n",
    "$$\n",
    "\n",
    "Taking only the future directed particles we have so that $\\dot t > 0$:\n",
    "\n",
    "$$\n",
    "p_t = \\frac{bp_r}{c} - \\sqrt{\\frac{1}{c^2}p_r^2 + \\frac{1}{c}(\\frac{L^2}{r^2} + m^2)}\\sqrt{\\Delta}\n",
    "$$\n",
    "\n",
    "We also need:\n",
    "\n",
    "$$\n",
    "m\\dot x^{\\mu} = g^{\\mu \\nu}p_{\\mu} = (\\frac{-c p_t + b p_r}{\\Delta}, \\frac{b p_t + a p_r}{\\Delta},  \\frac{L}{r^2}, 0).\n",
    "$$\n",
    "\n",
    "\n",
    "$$\n",
    "m\\dot t = \\frac{-c \\frac{bp_r}{c} +c \\sqrt{\\frac{1}{c^2}p_r^2 + \\frac{1}{c}(\\frac{L^2}{r^2} + m^2)}\\sqrt{\\Delta} + b p_r}{\\Delta} = \\frac{\\sqrt{p_r^2 + c(\\frac{L^2}{r^2} + m^2)}}{\\sqrt{\\Delta}}\n",
    "$$\n",
    "\n",
    "$$\n",
    "m\\dot r = \\frac{b p_t + a p_r}{\\Delta} = \\frac{b (\\frac{bp_r}{c} - \\sqrt{\\frac{1}{c^2}p_r^2 + \\frac{1}{c}(\\frac{L^2}{r^2} + m^2)}\\sqrt{\\Delta}) + a p_r}{\\Delta} = \\frac{1}{c} p_r - \\frac{b}{\\sqrt{\\Delta} c}\\sqrt{ p_r^2 + c(\\frac{L^2}{r^2} + m^2)}\n",
    "$$"
   ]
  },
  {
   "cell_type": "markdown",
   "metadata": {},
   "source": [
    "We compute now the relevant time derivatives of momentum:\n",
    "\n",
    "$$\n",
    "\\dot p_{\\mu} = -\\frac{1}{2m} \\frac{\\partial g^{\\sigma\\nu} }{\\partial x^{\\mu}}  p_{\\sigma}p_{\\nu}\n",
    "$$\n",
    "\n",
    "$$\n",
    "\\dot p_{\\mu} =  -\\frac{1}{2m}(\\dot{(\\frac{-c}{Δ})}p_t^2 + \\dot{(\\frac{b}{Δ})}p_t p_r + \\dot{(\\frac{a}{Δ})}p_r^2, \\; (\\frac{-c}{Δ})' p_t^2 + (\\frac{b}{Δ})' p_t p_r + (\\frac{a}{Δ})' p_r^2 -\\frac{2}{r^3}L^2,\\; 0,\\; 0)\n",
    "$$"
   ]
  },
  {
   "cell_type": "markdown",
   "metadata": {},
   "source": [
    "## Vlasov equation.\n",
    "\n",
    "We have, \n",
    "\n",
    "$$\n",
    "0 = \\frac{df}{dt} = \\{\\mathcal{H}, f\\} = \\dot x^{\\mu} \\frac{\\partial f}{\\partial x^{\\mu}} + \\dot p_{\\mu} \\frac{\\partial f}{\\partial p_{\\mu}}\n",
    "$$\n",
    "\n",
    "So is the derivative along a Hamiltonian curve.  \n",
    "\n",
    "In our case the curve can be reduced using the constant of motion, in particular we have \n",
    "$p_t = p_t(p_r,L,m)$, since $m$, and $L$ are constant alogn the trayectory they do not intervene on the derivatives. So we can either take $f(p_t,p_r)$ and use:\n",
    "\n",
    "$$\n",
    "\\dot p_t \\frac{\\partial f}{\\partial p_t} + \\dot p_r \\frac{\\partial f}{\\partial p_r} \n",
    "$$\n",
    "\n",
    "or we can think of $\\tilde{f}(p_r) := f(p_t(p_r),p_r)$ and consider, just,\n",
    "\n",
    "$$\n",
    "\\dot p_r \\frac{\\partial \\tilde{f}}{\\partial p_r} =  \\dot p_r [\\frac{\\partial f}{\\partial p_t} \\frac{\\partial p_t}{\\partial p_r} + \\frac{\\partial f}{\\partial p_r}] = \\dot p_t \\frac{\\partial f}{\\partial p_t} + \\dot p_r \\frac{\\partial f}{\\partial p_r}\n",
    "$$\n",
    "\n",
    "Thus, Vlasov's equation becomes,\n",
    "\n",
    "$$\n",
    "\\dot t \\frac{\\partial f}{\\partial t} + \\dot r \\frac{\\partial f}{\\partial r} + \\dot p_r \\frac{\\partial f}{\\partial p_r}\n",
    "$$\n",
    "\n",
    "With \n",
    "\n",
    "\\begin{align}\n",
    "m\\dot t &= \\frac{\\sqrt{p_r^2 + c(\\frac{L^2}{r^2} + m^2)}}{\\sqrt{\\Delta}}\\\\\n",
    "m\\dot r &= \\frac{1}{c} p_r - \\frac{b}{\\sqrt{\\Delta} c}\\sqrt{ p_r^2 + c(\\frac{L^2}{r^2} + m^2)}\\\\\n",
    "\\dot{p}_r &= (\\frac{-c}{Δ})' p_t^2 + (\\frac{b}{Δ})' p_t p_r + (\\frac{a}{Δ})' p_r^2 -\\frac{2}{r^3}L^2\n",
    "\\end{align}\n",
    "\n",
    "**Don't get any time-derivative of the metric. So think this is different from what it is in the papers???**"
   ]
  },
  {
   "cell_type": "markdown",
   "metadata": {},
   "source": []
  },
  {
   "cell_type": "markdown",
   "metadata": {},
   "source": [
    "### Energy-momentum for scalar field.\n",
    "\n",
    "$$\n",
    "T_{\\mu \\nu} = \\nabla_{\\mu}\\phi \\nabla_{\\nu} \\phi - \\frac{1}{2}g_{\\mu \\nu} \\nabla_{\\sigma} \\phi \\nabla^{\\sigma} \\phi\n",
    "$$\n",
    "\n"
   ]
  },
  {
   "cell_type": "markdown",
   "metadata": {},
   "source": [
    "Assuming spherical symmetry and using sphecal coordinates we get,\n",
    "\n",
    "$$\n",
    "\\nabla_{\\sigma} \\phi = (\\phi_t, \\phi_r, 0, 0)\n",
    "$$\n",
    "\n",
    "$$\n",
    "\\nabla_{\\sigma} \\phi \\nabla^{\\sigma} \\phi = \\frac{1}{d}(-c \\phi_t^2 + 2b \\phi_t \\phi_r + a \\phi_r^2) \\;\\;\\;\\; d = \\Delta = -det_g\n",
    "$$\n",
    "\n",
    "We recall that: $\\Pi := \\partial_t \\phi$, $\\Phi = \\partial_r \\phi$ and $\\chi_{\\pm} = \\frac{\\Pi \\pm \\Phi}{2}r$ (We shall omit the $r$ until the end of the calculation.)\n",
    "$\\phi_t = \\frac{\\chi_+ + \\chi_-}{r}$, $\\phi_r = \\frac{\\chi_+ - \\chi_-}{r}$\n",
    "\n",
    "$$\n",
    "\\nabla_{\\sigma} \\phi \\nabla^{\\sigma} \\phi = \\frac{1}{d}[\\chi_+^2[-c+2b+a] + 2\\chi_+\\chi_-[-c-a] + \\chi_-^2[-c+a-2b]]\n",
    "= \\frac{-4}{g}[\\chi_+\\chi_- + \\chi_-^2[f-1]]\n",
    "$$"
   ]
  },
  {
   "cell_type": "markdown",
   "metadata": {},
   "source": []
  },
  {
   "cell_type": "markdown",
   "metadata": {},
   "source": [
    "\\begin{align}\n",
    "T_{tt} &= \\phi_t^2 - \\frac{2a}{g}[\\chi_+\\chi_- + \\chi_-^2[f-1]] \\\\\n",
    "        &= (\\chi_+ + \\chi_-)^2 - \\frac{2a}{d}[\\chi_+\\chi_- + \\chi_-^2[f-1]] \\\\\n",
    "        &= \\frac{1}{g}[(g(\\chi_+ + \\chi_-)^2 - 2a[\\chi_+\\chi_- + \\chi_-^2[f-1]] \\\\\n",
    "        &= [(\\chi_+ + \\chi_-)^2 - 2(2-f)[\\chi_+\\chi_- + \\chi_-^2[f-1]] \\\\\n",
    "        &= [\\chi_+^2[1] + 2\\chi_+\\chi_-[f-1] + \\chi_-^2[5-6f+2f^2]] \\\\\n",
    "\\end{align}\n",
    "\n",
    "\\begin{align}\n",
    "T_{\\theta \\theta} &= \\frac{-1}{2d}[\\chi_+^2 (-c+2b+a) + 2\\chi_+\\chi_-(-c-a) + \\chi_-^2(-c -2b+a)]  \\\\\n",
    "&= \\frac{-1}{2g} [-4f \\chi_+\\chi_- + 4\\chi_-^2(f-1)]  \\\\\n",
    "\\end{align}\n",
    "\n",
    "\\begin{align}\n",
    "T_{rt} &= \\phi_t\\phi_r + 2(f-1)[\\chi_+\\chi_- + \\chi_-^2[f-1]] \\\\\n",
    "        &= (\\chi_+ + \\chi_-)(\\chi_+ - \\chi_-) + 2(f-1)[\\chi_+\\chi_- + \\chi_-^2[f-1]] \\\\\n",
    "        &= \\chi_+^2 - \\chi_-^2 + 2(f-1)[\\chi_+\\chi_- + \\chi_-^2[f-1]] \\\\\n",
    "        &= \\chi_+^2 + 2(f-1)\\chi_+\\chi_- + [-1 + 2(f-1)^2]\\chi_-^2\n",
    "\\end{align}\n",
    "\n",
    "\\begin{align}\n",
    "T_{rr} &= \\phi_r\\phi_r + 2f[\\chi_+\\chi_- + \\chi_-^2[f-1]] \\\\\n",
    "        &= (\\chi_+ - \\chi_-)^2 + 2f[\\chi_+\\chi_- + \\chi_-^2[f-1]] \\\\\n",
    "        &= \\chi_+^2 + 2\\chi_+\\chi_-[f-1] + \\chi_-^2[2f^2-2f-1]\n",
    "\\end{align}\n",
    "\n"
   ]
  },
  {
   "cell_type": "markdown",
   "metadata": {},
   "source": []
  }
 ],
 "metadata": {
  "kernelspec": {
   "display_name": "Julia 1.7.2",
   "language": "julia",
   "name": "julia-1.7"
  },
  "language_info": {
   "file_extension": ".jl",
   "mimetype": "application/julia",
   "name": "julia",
   "version": "1.7.2"
  },
  "orig_nbformat": 4
 },
 "nbformat": 4,
 "nbformat_minor": 2
}
