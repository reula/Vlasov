{
 "cells": [
  {
   "cell_type": "markdown",
   "metadata": {},
   "source": [
    "## This is a Julia version of the code for Einstein_Scalar_field\n",
    "\n",
    "See paper: *On free evolution of self gravitating, spherically symmetric waves.*"
   ]
  },
  {
   "cell_type": "code",
   "execution_count": null,
   "metadata": {},
   "outputs": [],
   "source": [
    "using OrdinaryDiffEq\n",
    "using SummationByPartsOperators\n",
    "#using DifferentialEquations\n",
    "using Plots\n",
    "using LinearAlgebra\n",
    "#using BandedMatrices\n",
    "using Printf\n"
   ]
  },
  {
   "cell_type": "code",
   "execution_count": null,
   "metadata": {},
   "outputs": [],
   "source": [
    "N = 2000 #grid steps\n",
    "x_i = 1.0; x_f = 100.0 #region \n",
    "dx = (x_f-x_i)/(N-1)\n",
    "U = 5 #number of fields (f,g,h,χ_+,χ_-)\n",
    "dT = 1.0*dx\n",
    "u0 = zeros(N*U)\n",
    "du = zeros(N*U)\n",
    "\n",
    "D = derivative_operator(MattssonNordström2004(), derivative_order=1, accuracy_order=4, xmin=x_i, xmax=x_f, N=N)\n",
    "\n",
    "x = SummationByPartsOperators.grid(D)\n",
    "\n",
    "Δ = dissipation_operator(D)\n",
    "#Δ = 1.0"
   ]
  },
  {
   "cell_type": "code",
   "execution_count": null,
   "metadata": {},
   "outputs": [],
   "source": [
    "function F!(du,u,p,t)\n",
    "    # second order version\n",
    "    D, Δ, x, dx, A, ω, τ, σ = p\n",
    "    \n",
    "    f = @view u[1:N]\n",
    "    g = @view u[N+1:2N]\n",
    "    h = @view u[2N+1:3N]\n",
    "    χ₊ = @view u[3N+1:4N]\n",
    "    χ₋ = @view u[4N+1:5N]\n",
    "\n",
    "    df = @view du[1:N]\n",
    "    dg = @view du[N+1:2N]\n",
    "    dh = @view du[2N+1:3N]\n",
    "    dχ₊ = @view du[3N+1:4N]\n",
    "    dχ₋ = @view du[4N+1:5N]\n",
    "\n",
    "    #= this is only the original system, (4) not the one we actually evolve!\n",
    "    @. df = D*f \n",
    "    @. dg = D*g\n",
    "    @. dh = D*h - df/2/f/x + (g-2)/2/f/h/x * dg - (g-f)*h/f/x -(g-2+f)/2/f/x^2 + 2*((χ₊ + χ₋)/f/x)^2 \n",
    "    @. dg = -g/f * df + (f-2)/f * dg + 2g*h -g*(g-2+f)/f/x  \n",
    "    @. df = df + (g-2+f)/x \n",
    "    @. dχ₊ = D*χ₊ - (f-2)* χ₋ /f/x\n",
    "    @. dχ₋ = (f-2)/f * D*χ₋ 2χ₋ *(2x*(f-2)*h + 2 - g -f)/f^2/x + 8χ₋*(χ₊)^2/f^3/x - χ₊/x\n",
    "    =#\n",
    "\n",
    "    # these are the equations, (7)\n",
    "    @. df = 2*(f-2)*h + 4* (χ₊)^2 /f/x\n",
    "    @. dg = 2*g*h - 2g* (χ₊)^2 /f/x + 2g*(f-2)* (χ₋)^2/ f^2/x \n",
    "    \n",
    "    #dh = D * h\n",
    "    mul!(dh,D,h)\n",
    "    #dh = D * h - σ*Δ * h\n",
    "    @. dh = dh + (- (g-2)* (χ₊)^2 + 4χ₊*χ₋ + g* (χ₋)^2 ) /f^2/x^2\n",
    "    dh[end] = dh[end] - 1.0/right_boundary_weight(D) *h[end] #penalty BC\n",
    "    mul!(dh,Δ,h,-σ,true)\n",
    "\n",
    "    #dχ₊ = D * χ₊\n",
    "    mul!(dχ₊,D,χ₊) \n",
    "    #dχ₊ = D * χ₊ - σ*Δ * χ₊\n",
    "    @. dχ₊ += - (f-2)* χ₋ /f/x\n",
    "    dχ₊[end] = dχ₊[end] - 1.0/right_boundary_weight(D) * (χ₊[end] - A*sin(ω*t)*exp(-t/τ)) #penalty BC\n",
    "    mul!(dχ₊,Δ,χ₊,-σ,true)\n",
    "\n",
    "    #dχ₋ = D * χ₋\n",
    "    mul!(dχ₋,D, χ₋)\n",
    "    @. dχ₋ = (f-2)/f * dχ₋ + 2χ₋ *(2x*(f-2)*h + 2 - g -f)/f^2/x + 8χ₋*(χ₊)^2/f^3/x - χ₊/x\n",
    "    \n",
    "    if f[1]<2.0\n",
    "        #dχ₋[1] += (f[1]-2)/f[1]/left_boundary_weight(D) *(χ₋[1] + χ₊[1]) #penalty BC\n",
    "        dχ₋[1] += (f[1]-2)/f[1]/left_boundary_weight(D) * χ₋[1] #penalty BC\n",
    "    end\n",
    "    mul!(dχ₋,Δ,χ₋,-σ,true)\n",
    "\n",
    "    @. du = [df; dg; dh; dχ₊; dχ₋]\n",
    "end"
   ]
  },
  {
   "cell_type": "code",
   "execution_count": null,
   "metadata": {},
   "outputs": [],
   "source": [
    "# put some boundary data\n",
    "A = 1.0; ω = 2π; τ = 5.0; σ = -0.1\n",
    "p = (D, Δ, x, dx, A, ω, τ, σ)\n",
    "\n",
    "f = @view u0[1:N]\n",
    "g = @view u0[N+1:2N]\n",
    "h = @view u0[2N+1:3N]\n",
    "χ₊ = @view u0[3N+1:4N]\n",
    "χ₋ = @view u0[4N+1:5N]\n",
    "\n",
    "f .= 1.0;\n",
    "g .= 1.0;\n",
    "#rest set to zero\n",
    "\n",
    "D*f\n",
    "\n",
    "Δ*f\n",
    "\n",
    "p"
   ]
  },
  {
   "cell_type": "code",
   "execution_count": null,
   "metadata": {},
   "outputs": [],
   "source": [
    "C = ones(2N)\n",
    "function constraints!(C,u,D)\n",
    "    x = SummationByPartsOperators.grid(D)\n",
    "    N = length(x)\n",
    "    f = @view u[1:N]\n",
    "    g = @view u[N+1:2N]\n",
    "    h = @view u[2N+1:3N]\n",
    "    χ₊ = @view u[3N+1:4N]\n",
    "    χ₋ = @view u[4N+1:5N]\n",
    "    Cf = @view C[1:N]\n",
    "    Cg = @view C[N+1:2N]\n",
    "    #Cf = D * f\n",
    "    mul!(Cf,D,f)\n",
    "    #Cg = D * g\n",
    "    mul!(Cg,D,g)\n",
    "    @. Cf = Cf - 2h*(f-2) + (g + f -2)/x - 4*(χ₊)^2/f/x \n",
    "    @. Cg = Cg - 2g*(h*f*x - (χ₊)^2 + (χ₋)^2)/f/x\n",
    "    C = [Cf;Cg]\n",
    "end\n",
    "\n"
   ]
  },
  {
   "cell_type": "code",
   "execution_count": null,
   "metadata": {},
   "outputs": [],
   "source": [
    "T=200\n",
    "prob = ODEProblem(F!,u0,(0.0,T),p);\n",
    "sol = solve(prob,RK4(),dt=dT,adaptive=false);"
   ]
  },
  {
   "cell_type": "code",
   "execution_count": null,
   "metadata": {},
   "outputs": [],
   "source": [
    "t = 100\n",
    "plot(x,sol(t)[1:N].-1.0, label = \"f-1\")\n",
    "plot!(x,sol(t)[N+1:2N].-1.0, label = \"g-1\")\n",
    "plot!(x,sol(t)[2N+1:3N], label = \"h\")"
   ]
  },
  {
   "cell_type": "code",
   "execution_count": null,
   "metadata": {},
   "outputs": [],
   "source": [
    "t = 40\n",
    "plot(x,sol(t)[3N+1:4N], label = \"χ₊\")\n",
    "plot!(x,sol(t)[4N+1:5N], label = \"χ₋\")"
   ]
  },
  {
   "cell_type": "code",
   "execution_count": null,
   "metadata": {},
   "outputs": [],
   "source": [
    "t = 26\n",
    "C = constraints!(C,sol(t),D)\n",
    "plot(x,C[1:N], label = \"Cf\")\n",
    "plot!(x,C[N+1:2N], label = \"Cg\")"
   ]
  },
  {
   "cell_type": "code",
   "execution_count": null,
   "metadata": {},
   "outputs": [],
   "source": [
    "CC(t) = norm(constraints!(C,sol(t),D))\n",
    "plot(0:T,t->CC(t))"
   ]
  },
  {
   "cell_type": "code",
   "execution_count": null,
   "metadata": {},
   "outputs": [],
   "source": [
    "anim = @animate for i ∈ 1:20\n",
    "    t = T*i/20\n",
    "    plot(title=@sprintf(\"fgh values at t = %6.2f\",t))\n",
    "    #@sprintf(\"\\$t = %6.2f \\$\", sol.t[idx])\n",
    "    plot!(x,sol(t)[1:N].-1.0, label = \"f-1\")\n",
    "    plot!(x,sol(t)[N+1:2N].-1.0, label = \"g-1\")\n",
    "    plot!(x,sol(t)[2N+1:3N], label = \"h\")\n",
    "end\n",
    "\n",
    "gif(anim, \"fgh_fps5.gif\", fps = 5)"
   ]
  },
  {
   "cell_type": "code",
   "execution_count": null,
   "metadata": {},
   "outputs": [],
   "source": [
    "anim = @animate for i ∈ 1:20\n",
    "    t = T*i/20\n",
    "    plot(title=\"scalar field values at t=$t\", ylim=(-1,1))\n",
    "    plot!(x,sol(t)[3N+1:4N], label = \"χ₊\")\n",
    "    plot!(x,sol(t)[4N+1:5N], label = \"χ₋\")\n",
    "end\n",
    "\n",
    "gif(anim, \"scalar_fps5.gif\", fps = 5)"
   ]
  },
  {
   "cell_type": "code",
   "execution_count": null,
   "metadata": {},
   "outputs": [],
   "source": [
    "C = zeros(2N)\n",
    "anim = @animate for i ∈ 1:20\n",
    "    t = T*i/20\n",
    "    plot(title=\"Constraints at t=$t\")#, ylim=(-1,1))\n",
    "    constraints!(C,sol(t),D)\n",
    "    plot!(x,C[1:N], label = \"Cf\")\n",
    "    plot!(x,C[N+1:2N], label = \"Cg\")\n",
    "end\n",
    "\n",
    "gif(anim, \"scalar_fps5.gif\", fps = 5)"
   ]
  },
  {
   "cell_type": "code",
   "execution_count": null,
   "metadata": {},
   "outputs": [],
   "source": [
    "D1 = derivative_operator(MattssonNordström2004(), derivative_order=1, accuracy_order=2, xmin=0, xmax=1, N=3)\n",
    "left_boundary_weight(D1)"
   ]
  },
  {
   "cell_type": "code",
   "execution_count": null,
   "metadata": {},
   "outputs": [],
   "source": [
    "D4 = derivative_operator(MattssonNordström2004(), derivative_order=1, accuracy_order=4, xmin=0, xmax=1, N=3)\n",
    "left_boundary_weight(D4)*2*48/17"
   ]
  }
 ],
 "metadata": {
  "kernelspec": {
   "display_name": "Julia 1.8.1",
   "language": "julia",
   "name": "julia-1.8"
  },
  "language_info": {
   "file_extension": ".jl",
   "mimetype": "application/julia",
   "name": "julia",
   "version": "1.8.1"
  },
  "orig_nbformat": 4
 },
 "nbformat": 4,
 "nbformat_minor": 2
}
