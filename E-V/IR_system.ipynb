{
 "cells": [
  {
   "cell_type": "markdown",
   "metadata": {},
   "source": [
    "## This is a Julia version of the code for Einstein_Scalar_field\n",
    "\n",
    "See paper: *On free evolution of self gravitating, spherically symmetric waves.*\n",
    "\n",
    "Equations in notes.ipynb"
   ]
  },
  {
   "cell_type": "code",
   "execution_count": null,
   "metadata": {},
   "outputs": [],
   "source": [
    "using OrdinaryDiffEq\n",
    "using SummationByPartsOperators\n",
    "#using DifferentialEquations\n",
    "using Plots\n",
    "using LinearAlgebra\n",
    "#using BandedMatrices\n",
    "using Printf\n"
   ]
  },
  {
   "cell_type": "code",
   "execution_count": null,
   "metadata": {},
   "outputs": [],
   "source": [
    "include(\"aux_functions_IR.jl\") # here is where the functions are stored."
   ]
  },
  {
   "cell_type": "code",
   "execution_count": null,
   "metadata": {},
   "outputs": [],
   "source": [
    "N = 4001 #grid steps\n",
    "x_i = 1.0; x_f = 100.0 #region \n",
    "dx = (x_f-x_i)/(N-1)\n",
    "U = 5 #number of fields (f,g,h,χ_+,χ_-)\n",
    "\n",
    "u0 = zeros(N*U) # for the initial data\n",
    "du = zeros(N*U) # for the time derivatives\n",
    "C = ones(2N) # for the constraints\n",
    "\n",
    "#order 6/8 are not working, I get instabilities. Problems with the eigenvalues too big? Does not seem to be so.\n",
    "\n",
    "#D = derivative_operator(MattssonNordström2004(), derivative_order=1, accuracy_order=8, xmin=x_i, xmax=x_f, N=N)\n",
    "D = derivative_operator(MattssonAlmquistVanDerWeide2018Accurate(), derivative_order=1, accuracy_order=8, xmin=x_i, xmax=x_f, N=N)\n",
    "#D = derivative_operator(MattssonAlmquistCarpenter2014Optimal(), derivative_order=1, accuracy_order=4, xmin=x_i, xmax=x_f, N=N)\n",
    "#D = derivative_operator(Mattsson2017(), derivative_order=1, accuracy_order=8, xmin=x_i, xmax=x_f, N=N)\n",
    "\n",
    "\n",
    "# one can the get the grid for the D, this is important when the operator has non-uniform grid.\n",
    "x = SummationByPartsOperators.grid(D)\n",
    "\n",
    "# the dissipation operator correponding to D\n",
    "Δ = dissipation_operator(D)\n",
    "#Δ = 1.0\n",
    "dT = 1.0*D.Δx\n",
    "@show dx - D.Δx\n",
    "σ = -0.1 # dissipation strength"
   ]
  },
  {
   "cell_type": "code",
   "execution_count": null,
   "metadata": {},
   "outputs": [],
   "source": [
    "# put some boundary data\n",
    "\n",
    "sinusoidal = false\n",
    "bump = true\n",
    "\n",
    "#sinusoidal pulse\n",
    "# (t<tf) ? A*sin(ω*t)*exp(-t/τ) : 0.0\n",
    "if sinusoidal\n",
    "    p_sb = (0.10, π/2, 5.0, 10) #A = 0.10; ω = 2π; τ = 5.0; tf = 10; A=1 generates a black hole, A=0.1 just a bounce\n",
    "    p = (D, Δ, σ, x, s_b, p_sb) # UNCOMMENT TO USE\n",
    "end\n",
    "\n",
    "#polynomial bump\n",
    "#(t0 - t)*(t - t1) >= 0 ? A*(t0 - t)^(order)*(t - t1)^(order)*(2/(t0-t1))^(2order) : 0.0\n",
    "# A=1 generates a black hole, A=0.1 just a bounce\n",
    "if bump\n",
    "    p_bb = (1, 1, 9, 8) # (A, t0, t1, order)\n",
    "    p = (D, Δ, σ, x, b_b, p_bb)\n",
    "end\n",
    "\n",
    "f = @view u0[1:N]\n",
    "g = @view u0[N+1:2N]\n",
    "h = @view u0[2N+1:3N]\n",
    "χ₊ = @view u0[3N+1:4N]\n",
    "χ₋ = @view u0[4N+1:5N]\n",
    "\n",
    "f .= 1.0;\n",
    "g .= 1.0;\n",
    "#rest set to zero\n",
    "\n",
    "D*f\n",
    "\n",
    "Δ*f\n",
    "\n",
    "p"
   ]
  },
  {
   "cell_type": "markdown",
   "metadata": {},
   "source": [
    "The boundary values"
   ]
  },
  {
   "cell_type": "code",
   "execution_count": null,
   "metadata": {},
   "outputs": [],
   "source": [
    "tt = 0:0.01:12\n",
    "if bump\n",
    "plot(tt,tt->b_b(tt,p_bb))\n",
    "else\n",
    "plot!(tt,tt->s_b(tt,p_sb))\n",
    "end"
   ]
  },
  {
   "cell_type": "code",
   "execution_count": null,
   "metadata": {},
   "outputs": [],
   "source": [
    "T=220\n",
    "prob = ODEProblem(F!,u0,(0.0,T),p);\n",
    "sol = solve(prob,RK4(),dt=dT*0.50,adaptive=false);#,save_everystep=false);"
   ]
  },
  {
   "cell_type": "markdown",
   "metadata": {},
   "source": [
    "The geometry near the left boundary."
   ]
  },
  {
   "cell_type": "code",
   "execution_count": null,
   "metadata": {},
   "outputs": [],
   "source": [
    "t = T\n",
    "plot(x,sol(t)[1:N].-1.0, label = \"f-1\"\n",
    "#, ylim=(-0.00002,0.000020)\n",
    ", xlim=(1,2)\n",
    ")\n",
    "#plot!(x,2.7./x)\n",
    "plot!(x,sol(t)[N+1:2N].-1.0, label = \"g-1\")\n",
    "plot!(x,sol(t)[2N+1:3N], label = \"h\")\n",
    "plot!(x,m(x,sol(t)[1:N],sol(t)[N+1:2N]),label =\"m\")"
   ]
  },
  {
   "cell_type": "markdown",
   "metadata": {},
   "source": [
    "The fields near the left boundary at different times."
   ]
  },
  {
   "cell_type": "code",
   "execution_count": null,
   "metadata": {},
   "outputs": [],
   "source": [
    "t = 102\n",
    "plot(title = \"fields\")\n",
    "plot!(x,sol(t)[3N+1:4N], label = \"χ₊\", c=:blue\n",
    ",xlim = (1,3)\n",
    "#,ylim = (-0.001,0.001)\n",
    ")\n",
    "plot!(x,sol(t)[4N+1:5N], label = \"χ₋\", c=:red)\n",
    "scatter!(x,sol(t)[3N+1:4N],ms=1.7, c=:blue)\n",
    "scatter!(x,sol(t)[4N+1:5N],ms=1.7, c=:red)"
   ]
  },
  {
   "cell_type": "markdown",
   "metadata": {},
   "source": [
    "Constraint violation plot"
   ]
  },
  {
   "cell_type": "code",
   "execution_count": null,
   "metadata": {},
   "outputs": [],
   "source": [
    "t = 104\n",
    "constraints!(C,sol(t),D)\n",
    "plot(title = \"N=$N, T=$T, σ = $σ\")\n",
    "plot!(x,C[1:N], label = \"Cf\"\n",
    ", xlim = (1.0,3.0)\n",
    ", ylim = (-0.001,0.001)\n",
    ")\n",
    "plot!(x,C[N+1:2N], label = \"Cg\")\n",
    "#png(\"Images/Constraints_A01\"*\"MAWA_8_T$(T)_N$(N)_S_0p0dT0p5p0\")"
   ]
  },
  {
   "cell_type": "markdown",
   "metadata": {},
   "source": [
    "We also compute the constraint norm outside the black - hole, when it forms. In general the constraint violation inside the hole is quite big."
   ]
  },
  {
   "cell_type": "code",
   "execution_count": null,
   "metadata": {},
   "outputs": [],
   "source": [
    "CC(t) = norm(constraints_filter!(C,sol(t),D)[1:end])\n",
    "plot(0:T,t->CC(t), title=\"Constraints (filtered), N=$N, σ=$σ, norm-2pts\"\n",
    ", ylim=(0,0.0002)\n",
    ")\n",
    "#png(\"Images/Constraints_A11\"*\"_MAWA_8_N$(N)_S_0p0_dT0p5_c2-2\")"
   ]
  },
  {
   "cell_type": "code",
   "execution_count": null,
   "metadata": {},
   "outputs": [],
   "source": [
    "anim = @animate for i ∈ 1:20\n",
    "    t = T*i/20\n",
    "    plot(title=@sprintf(\"fgh values at t = %6.2f\",t)\n",
    "    #,ylim=(-0.01,0.01)\n",
    "    )\n",
    "    #@sprintf(\"\\$t = %6.2f \\$\", sol.t[idx])\n",
    "    plot!(x,sol(t)[1:N].-1.0, label = \"f-1\")\n",
    "    plot!(x,sol(t)[N+1:2N].-1.0, label = \"g-1\")\n",
    "    plot!(x,sol(t)[2N+1:3N], label = \"h\")\n",
    "    plot!(x,m.(x,sol(t)[1:N],sol(t)[N+1:2N]),label =\"m\")\n",
    "end\n",
    "\n",
    "gif(anim, \"fghm_A01_B_fps5.gif\", fps = 5)"
   ]
  },
  {
   "cell_type": "code",
   "execution_count": null,
   "metadata": {},
   "outputs": [],
   "source": [
    "anim = @animate for i ∈ 1:20\n",
    "    t = T*i/20\n",
    "    plot(title=\"scalar field values at t=$t\"\n",
    "    #, ylim=(-1,1)\n",
    "    )\n",
    "    plot!(x,sol(t)[3N+1:4N], label = \"χ₊\")\n",
    "    plot!(x,sol(t)[4N+1:5N], label = \"χ₋\")\n",
    "end\n",
    "\n",
    "gif(anim, \"scalar_A01_B_fps5.gif\", fps = 5)"
   ]
  },
  {
   "cell_type": "code",
   "execution_count": null,
   "metadata": {},
   "outputs": [],
   "source": [
    "C = zeros(2N)\n",
    "anim = @animate for i ∈ 1:20\n",
    "    t = T*i/20\n",
    "    plot(title=\"Constraints at t=$t\"\n",
    "    , ylim=(-0.001,0.001)\n",
    "    )\n",
    "    constraints!(C,sol(t),D)\n",
    "    plot!(x,C[1:N], label = \"Cf\")\n",
    "    plot!(x,C[N+1:2N], label = \"Cg\")\n",
    "end\n",
    "\n",
    "gif(anim, \"constraints_A01_B_fps5.gif\", fps = 5)"
   ]
  },
  {
   "cell_type": "code",
   "execution_count": null,
   "metadata": {},
   "outputs": [],
   "source": [
    "Head_Z = [-24.0/17.0   59.0/34.0  -4.0/17.0  -3.0/34.0        0.0       0.0 \n",
    "                 -1.0/2.0         0.0    1.0/2.0        0.0        0.0       0.0 \n",
    "                 4.0/43.0  -59.0/86.0        0.0  59.0/86.0  -4.0/43.0       0.0 \n",
    "                 3.0/98.0         0.0 -59.0/98.0        0.0  32.0/49.0 -4.0/49.0\n",
    "                ]\n",
    "                "
   ]
  },
  {
   "cell_type": "code",
   "execution_count": null,
   "metadata": {},
   "outputs": [],
   "source": []
  }
 ],
 "metadata": {
  "kernelspec": {
   "display_name": "Julia 1.8.1",
   "language": "julia",
   "name": "julia-1.8"
  },
  "language_info": {
   "file_extension": ".jl",
   "mimetype": "application/julia",
   "name": "julia",
   "version": "1.8.1"
  },
  "orig_nbformat": 4
 },
 "nbformat": 4,
 "nbformat_minor": 2
}
